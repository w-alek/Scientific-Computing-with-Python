{
 "cells": [
  {
   "cell_type": "markdown",
   "id": "scenic-following",
   "metadata": {},
   "source": [
    "## EXERCISE 4.1"
   ]
  },
  {
   "cell_type": "code",
   "execution_count": 1,
   "id": "neural-insight",
   "metadata": {},
   "outputs": [],
   "source": [
    "# points in a plane\n",
    "p_1 = (3, 2)\n",
    "p_2 = (-1/2, 1/3)\n",
    "p_3 = (1, 0)"
   ]
  },
  {
   "cell_type": "code",
   "execution_count": 2,
   "id": "convenient-hampton",
   "metadata": {},
   "outputs": [],
   "source": [
    "# < in unit circle, = on unit circle, > outside unit circle\n",
    "test_is_in_unit_circle = lambda p: p[0]**2 + p[1]**2 < 1"
   ]
  },
  {
   "cell_type": "code",
   "execution_count": 3,
   "id": "japanese-public",
   "metadata": {},
   "outputs": [
    {
     "name": "stdout",
     "output_type": "stream",
     "text": [
      "(3, 2) is outside or on unit circle\n",
      "(-0.5, 0.3333333333333333) is in unit circle\n",
      "(1, 0) is outside or on unit circle\n"
     ]
    }
   ],
   "source": [
    "for p in [p_1, p_2, p_3]:\n",
    "    if test_is_in_unit_circle(p):\n",
    "        print('{} is in unit circle'.format(p))\n",
    "    else:\n",
    "        print('{} is outside or on unit circle'.format(p))"
   ]
  },
  {
   "cell_type": "code",
   "execution_count": 4,
   "id": "pressed-madonna",
   "metadata": {},
   "outputs": [],
   "source": [
    "test_pos_cor = lambda p: p[0] > 0 and p[1] > 0"
   ]
  },
  {
   "cell_type": "code",
   "execution_count": 5,
   "id": "willing-topic",
   "metadata": {},
   "outputs": [
    {
     "name": "stdout",
     "output_type": "stream",
     "text": [
      "Coordinates of (3, 2) are positive\n",
      "Coordinates of (-0.5, 0.3333333333333333) are non positive\n",
      "Coordinates of (1, 0) are non positive\n"
     ]
    }
   ],
   "source": [
    "for p in [p_1, p_2, p_3]:\n",
    "    if test_pos_cor(p):\n",
    "        print('Coordinates of {} are positive'.format(p))\n",
    "    else:\n",
    "        print('Coordinates of {} are non positive'.format(p))"
   ]
  },
  {
   "cell_type": "code",
   "execution_count": 6,
   "id": "devoted-oracle",
   "metadata": {},
   "outputs": [],
   "source": [
    "L = [(3, -4), (2, 1), (-4, -5), (2, 3), (-2, -5)] # list of points in a plane\n",
    "L_copy = L[:]"
   ]
  },
  {
   "cell_type": "code",
   "execution_count": 7,
   "id": "pointed-upper",
   "metadata": {},
   "outputs": [
    {
     "name": "stdout",
     "output_type": "stream",
     "text": [
      "[(2, 3), (2, 1), (3, -4), (-4, -5), (-2, -5)]\n"
     ]
    }
   ],
   "source": [
    "# during sorting we should compare points in a plane as following\n",
    "# (a, b) <= (x, y) if and only if y <= b and if b = y then a <= x\n",
    "L_copy.sort(key = lambda p: (-p[1], p[0]))\n",
    "print(L_copy)"
   ]
  },
  {
   "cell_type": "code",
   "execution_count": 8,
   "id": "complicated-village",
   "metadata": {},
   "outputs": [
    {
     "name": "stdout",
     "output_type": "stream",
     "text": [
      "[(2, 1), (2, 3), (3, -4), (-2, -5), (-4, -5)]\n"
     ]
    }
   ],
   "source": [
    "# during sorting we should compare points in a plane as following\n",
    "# (a, b) <= (x, y) if and only if |a| + |b| <= |x| + |y|\n",
    "L_copy = L[:]\n",
    "L_copy.sort(key = lambda p: abs(p[0]) + abs(p[1]))\n",
    "print(L_copy)"
   ]
  },
  {
   "cell_type": "markdown",
   "id": "pregnant-terminal",
   "metadata": {},
   "source": [
    "## EXERCISE 4.2"
   ]
  },
  {
   "cell_type": "code",
   "execution_count": 9,
   "id": "hearing-floor",
   "metadata": {},
   "outputs": [],
   "source": [
    "def reverse_range_iter(L: list, left: int, right: int) -> None:\n",
    "    \"\"\"\n",
    "    Reverse a list in place from left to right index\n",
    "    \n",
    "    Args:\n",
    "        L: List to reverse\n",
    "        left: left index\n",
    "        right: right index, included in reverse\n",
    "        \n",
    "    Raises:\n",
    "        AssertionError: Empty list or when left index is greater than right index\n",
    "        or when the indexes have opposite signs\n",
    "    \n",
    "    \"\"\"\n",
    "    assert L and left <= right and left * right >= 0, \"Can't reverse empty List or when left index > right index \"\\\n",
    "    \"or when the indexes have opposite signs\"\n",
    "    for i in range((right - left + 1)//2):\n",
    "        L[left + i], L[right - i] = L[right - i], L[left + i]"
   ]
  },
  {
   "cell_type": "code",
   "execution_count": 10,
   "id": "laden-korea",
   "metadata": {},
   "outputs": [],
   "source": [
    "import random"
   ]
  },
  {
   "cell_type": "code",
   "execution_count": 11,
   "id": "minute-headline",
   "metadata": {},
   "outputs": [
    {
     "name": "stdout",
     "output_type": "stream",
     "text": [
      "[17, 42, 11, 45, 36, 80, 41, 84, 93, 97]\n"
     ]
    }
   ],
   "source": [
    "#Generate 10 random numbers between 10 and 100\n",
    "random_list = random.sample(range(10, 100), 10)\n",
    "random_list_copy = random_list[:]\n",
    "print(random_list_copy)"
   ]
  },
  {
   "cell_type": "code",
   "execution_count": 12,
   "id": "employed-secret",
   "metadata": {},
   "outputs": [],
   "source": [
    "reverse_range_iter(random_list_copy, 2, 9)"
   ]
  },
  {
   "cell_type": "code",
   "execution_count": 13,
   "id": "emerging-apparatus",
   "metadata": {},
   "outputs": [
    {
     "name": "stdout",
     "output_type": "stream",
     "text": [
      "[17, 42, 97, 93, 84, 41, 80, 36, 45, 11]\n"
     ]
    }
   ],
   "source": [
    "print(random_list_copy)"
   ]
  },
  {
   "cell_type": "code",
   "execution_count": 14,
   "id": "tribal-boulder",
   "metadata": {},
   "outputs": [],
   "source": [
    "random_list_copy = random_list[:]\n",
    "reverse_range_iter(random_list_copy, -6, -3)"
   ]
  },
  {
   "cell_type": "code",
   "execution_count": 15,
   "id": "refined-occurrence",
   "metadata": {},
   "outputs": [
    {
     "name": "stdout",
     "output_type": "stream",
     "text": [
      "[17, 42, 11, 45, 84, 41, 80, 36, 93, 97]\n"
     ]
    }
   ],
   "source": [
    "print(random_list_copy)"
   ]
  },
  {
   "cell_type": "code",
   "execution_count": 16,
   "id": "structural-monster",
   "metadata": {},
   "outputs": [],
   "source": [
    "def reverse_range_rec(L: list, left: int, right: int) -> None:\n",
    "    \"\"\"\n",
    "    Reverse a list in place from left to right index\n",
    "    \n",
    "    Args:\n",
    "        L: List to reverse\n",
    "        left: left index\n",
    "        right: right index, included in reverse\n",
    "        \n",
    "    Raises:\n",
    "        AssertionError: Empty list or when left index is greater than right index\n",
    "        or when the indexes have opposite signs\n",
    "    \n",
    "    \"\"\"\n",
    "    assert L and left <= right and left * right >= 0, \"Can't reverse empty List or when left index > right index \"\\\n",
    "    \"or when the indexes have opposite signs\"\n",
    "    if right - left <= 1:\n",
    "        L[left], L[right] = L[right], L[left]\n",
    "        return # stopping criterion\n",
    "    L[left], L[right] = L[right], L[left]\n",
    "    return reverse_range_rec(L, left + 1, right - 1)"
   ]
  },
  {
   "cell_type": "code",
   "execution_count": 17,
   "id": "stock-nursery",
   "metadata": {},
   "outputs": [
    {
     "name": "stdout",
     "output_type": "stream",
     "text": [
      "[30, 35, 96, 36, 73, 45, 19, 42, 81, 40]\n"
     ]
    }
   ],
   "source": [
    "#Generate 10 random numbers between 10 and 100\n",
    "random_list = random.sample(range(10, 100), 10)\n",
    "random_list_copy = random_list[:]\n",
    "print(random_list_copy)"
   ]
  },
  {
   "cell_type": "code",
   "execution_count": 18,
   "id": "speaking-hindu",
   "metadata": {},
   "outputs": [],
   "source": [
    "reverse_range_rec(random_list_copy, 1, 5)"
   ]
  },
  {
   "cell_type": "code",
   "execution_count": 19,
   "id": "located-oregon",
   "metadata": {},
   "outputs": [
    {
     "name": "stdout",
     "output_type": "stream",
     "text": [
      "[30, 45, 73, 36, 96, 35, 19, 42, 81, 40]\n"
     ]
    }
   ],
   "source": [
    "print(random_list_copy)"
   ]
  },
  {
   "cell_type": "code",
   "execution_count": 20,
   "id": "brilliant-horizon",
   "metadata": {},
   "outputs": [],
   "source": [
    "random_list_copy = random_list[:]\n",
    "reverse_range_iter(random_list_copy, 7, 8)"
   ]
  },
  {
   "cell_type": "code",
   "execution_count": 21,
   "id": "historic-orientation",
   "metadata": {},
   "outputs": [
    {
     "name": "stdout",
     "output_type": "stream",
     "text": [
      "[30, 35, 96, 36, 73, 45, 19, 81, 42, 40]\n"
     ]
    }
   ],
   "source": [
    "print(random_list_copy)"
   ]
  },
  {
   "cell_type": "markdown",
   "id": "mature-somalia",
   "metadata": {},
   "source": [
    "## EXERCISE 4.3"
   ]
  },
  {
   "cell_type": "code",
   "execution_count": 22,
   "id": "played-tiger",
   "metadata": {},
   "outputs": [],
   "source": [
    "def iter_even():\n",
    "    \"\"\"Create infinite generator producing even numbers (0, 2, 4, ...)\"\"\"\n",
    "    i = 0\n",
    "    while True:\n",
    "        yield i\n",
    "        i += 2"
   ]
  },
  {
   "cell_type": "code",
   "execution_count": 23,
   "id": "dependent-helena",
   "metadata": {},
   "outputs": [
    {
     "name": "stdout",
     "output_type": "stream",
     "text": [
      "0\n",
      "2\n",
      "4\n",
      "6\n",
      "8\n",
      "10\n",
      "12\n",
      "14\n",
      "16\n",
      "18\n",
      "20\n"
     ]
    }
   ],
   "source": [
    "even = iter_even()\n",
    "for i in even:\n",
    "    print(i)\n",
    "    if i >= 20:\n",
    "        break"
   ]
  },
  {
   "cell_type": "code",
   "execution_count": 24,
   "id": "painted-honey",
   "metadata": {},
   "outputs": [
    {
     "name": "stdout",
     "output_type": "stream",
     "text": [
      "22\n",
      "24\n"
     ]
    }
   ],
   "source": [
    "print(next(even))\n",
    "print(next(even))"
   ]
  },
  {
   "cell_type": "code",
   "execution_count": 25,
   "id": "median-blind",
   "metadata": {},
   "outputs": [],
   "source": [
    "def iter_odd():\n",
    "    \"\"\"Create infinite generator producing odd numbers (1, 3, 5, ...)\"\"\"\n",
    "    i = 1\n",
    "    while True:\n",
    "        yield i\n",
    "        i += 2"
   ]
  },
  {
   "cell_type": "code",
   "execution_count": 26,
   "id": "unlike-cable",
   "metadata": {},
   "outputs": [
    {
     "name": "stdout",
     "output_type": "stream",
     "text": [
      "1\n",
      "3\n",
      "5\n",
      "7\n",
      "9\n",
      "11\n",
      "13\n",
      "15\n",
      "17\n",
      "19\n",
      "21\n"
     ]
    }
   ],
   "source": [
    "odd = iter_odd()\n",
    "for i in odd:\n",
    "    print(i)\n",
    "    if i >= 20:\n",
    "        break"
   ]
  },
  {
   "cell_type": "code",
   "execution_count": 27,
   "id": "insured-edward",
   "metadata": {},
   "outputs": [
    {
     "name": "stdout",
     "output_type": "stream",
     "text": [
      "23\n",
      "25\n"
     ]
    }
   ],
   "source": [
    "print(next(odd))\n",
    "print(next(odd))"
   ]
  },
  {
   "cell_type": "code",
   "execution_count": 28,
   "id": "mysterious-kennedy",
   "metadata": {},
   "outputs": [],
   "source": [
    "def iter_power(k):\n",
    "    \"\"\"\n",
    "    Create infinite generator producing producing powers of k (1, k, k*k, k*k*k, ...)\n",
    "    \n",
    "    Args:\n",
    "        k: the basis of power\n",
    "    \"\"\"\n",
    "    i = 1\n",
    "    while True:\n",
    "        yield i\n",
    "        i *= k"
   ]
  },
  {
   "cell_type": "code",
   "execution_count": 29,
   "id": "searching-chester",
   "metadata": {},
   "outputs": [
    {
     "name": "stdout",
     "output_type": "stream",
     "text": [
      "1\n",
      "2\n",
      "4\n",
      "8\n",
      "16\n",
      "32\n",
      "64\n",
      "128\n",
      "256\n",
      "512\n",
      "1024\n",
      "2048\n",
      "4096\n"
     ]
    }
   ],
   "source": [
    "power = iter_power(2)\n",
    "for i in power:\n",
    "    print(i)\n",
    "    if i >= 2049:\n",
    "        break"
   ]
  },
  {
   "cell_type": "code",
   "execution_count": 30,
   "id": "involved-specific",
   "metadata": {},
   "outputs": [
    {
     "name": "stdout",
     "output_type": "stream",
     "text": [
      "8192\n"
     ]
    }
   ],
   "source": [
    "print(next(power))"
   ]
  }
 ],
 "metadata": {
  "kernelspec": {
   "display_name": "Python 3",
   "language": "python",
   "name": "python3"
  },
  "language_info": {
   "codemirror_mode": {
    "name": "ipython",
    "version": 3
   },
   "file_extension": ".py",
   "mimetype": "text/x-python",
   "name": "python",
   "nbconvert_exporter": "python",
   "pygments_lexer": "ipython3",
   "version": "3.8.5"
  }
 },
 "nbformat": 4,
 "nbformat_minor": 5
}
