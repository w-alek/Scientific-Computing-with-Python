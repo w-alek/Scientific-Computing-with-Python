{
 "cells": [
  {
   "cell_type": "code",
   "execution_count": 1,
   "id": "3c8c6779",
   "metadata": {},
   "outputs": [],
   "source": [
    "from PIL import Image"
   ]
  },
  {
   "cell_type": "code",
   "execution_count": 5,
   "id": "81d7eed0",
   "metadata": {},
   "outputs": [
    {
     "name": "stdout",
     "output_type": "stream",
     "text": [
      "Image mode:  RGBA\n",
      "Image size:  (601, 203)\n",
      "Image format:  PNG\n",
      "Image info:  {'dpi': (71, 71), 'Creation Time': '06/05/04', 'Software': 'Macromedia Fireworks MX 2004'}\n"
     ]
    }
   ],
   "source": [
    "with Image.open('python_logo.png') as img:\n",
    "    print('Image mode: ', img.mode)\n",
    "    print('Image size: ', img.size)\n",
    "    print('Image format: ', img.format)\n",
    "    print('Image info: ', img.info)\n",
    "    img.show()\n",
    "    img.thumbnail((128, 128))\n",
    "    img.save('python_logo_thumb.png', format = 'PNG')"
   ]
  },
  {
   "cell_type": "code",
   "execution_count": null,
   "id": "45dd33f9",
   "metadata": {},
   "outputs": [],
   "source": []
  }
 ],
 "metadata": {
  "kernelspec": {
   "display_name": "Python 3",
   "language": "python",
   "name": "python3"
  },
  "language_info": {
   "codemirror_mode": {
    "name": "ipython",
    "version": 3
   },
   "file_extension": ".py",
   "mimetype": "text/x-python",
   "name": "python",
   "nbconvert_exporter": "python",
   "pygments_lexer": "ipython3",
   "version": "3.8.5"
  }
 },
 "nbformat": 4,
 "nbformat_minor": 5
}
