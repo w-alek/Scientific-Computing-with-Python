{
 "cells": [
  {
   "cell_type": "code",
   "execution_count": 1,
   "id": "protective-texture",
   "metadata": {},
   "outputs": [],
   "source": [
    "from vector_class import Vector\n",
    "from random import randint\n",
    "from itertools import cycle\n",
    "from math import sqrt\n",
    "import numpy as np"
   ]
  },
  {
   "cell_type": "markdown",
   "id": "acquired-pathology",
   "metadata": {},
   "source": [
    "## Exercise 7.1"
   ]
  },
  {
   "cell_type": "code",
   "execution_count": 2,
   "id": "polyphonic-ordinance",
   "metadata": {},
   "outputs": [],
   "source": [
    "def find_axis(v1 : Vector, v2 : Vector) -> Vector:\n",
    "    '''\n",
    "    Returns the unit vector v3, where v3 is perpendicular to the vectors v1 and v2.\n",
    "    \n",
    "    Args:\n",
    "        v1: instance of Vector class\n",
    "        v2: instance of vector class\n",
    "        \n",
    "    Raises:\n",
    "        ValueError when vectors are parallel or at least one of them is zero\n",
    "    '''\n",
    "    vector_zero = Vector(0, 0, 0)\n",
    "    cross_product = v1.cross(v2)\n",
    "    if cross_product == vector_zero or v1 == vector_zero or v2 == vector_zero:\n",
    "        raise ValueError ('Vectors are parallel or at least one of them is zero.')\n",
    "    cross_length = cross_product.length()\n",
    "    cross_product.x /= cross_length\n",
    "    cross_product.y /= cross_length\n",
    "    cross_product.z /= cross_length\n",
    "    return cross_product"
   ]
  },
  {
   "cell_type": "code",
   "execution_count": 3,
   "id": "previous-faith",
   "metadata": {},
   "outputs": [],
   "source": [
    "v1 = Vector(1, 1, 1)\n",
    "v2 = Vector(1, 0, 1)\n",
    "v3 = Vector(0, 0, 0)"
   ]
  },
  {
   "cell_type": "code",
   "execution_count": 4,
   "id": "brief-singapore",
   "metadata": {},
   "outputs": [
    {
     "data": {
      "text/plain": [
       "Vector(0.7071067811865475, 0.0, -0.7071067811865475)"
      ]
     },
     "execution_count": 4,
     "metadata": {},
     "output_type": "execute_result"
    }
   ],
   "source": [
    "find_axis(v1, v2)"
   ]
  },
  {
   "cell_type": "code",
   "execution_count": 5,
   "id": "interested-horizon",
   "metadata": {},
   "outputs": [
    {
     "ename": "ValueError",
     "evalue": "Vectors are parallel or at least one of them is zero.",
     "output_type": "error",
     "traceback": [
      "\u001b[0;31m---------------------------------------------------------------------------\u001b[0m",
      "\u001b[0;31mValueError\u001b[0m                                Traceback (most recent call last)",
      "\u001b[0;32m<ipython-input-5-e53a2aee87ed>\u001b[0m in \u001b[0;36m<module>\u001b[0;34m\u001b[0m\n\u001b[0;32m----> 1\u001b[0;31m \u001b[0mfind_axis\u001b[0m\u001b[0;34m(\u001b[0m\u001b[0mv1\u001b[0m\u001b[0;34m,\u001b[0m \u001b[0mv3\u001b[0m\u001b[0;34m)\u001b[0m\u001b[0;34m\u001b[0m\u001b[0;34m\u001b[0m\u001b[0m\n\u001b[0m",
      "\u001b[0;32m<ipython-input-2-0a89557d82aa>\u001b[0m in \u001b[0;36mfind_axis\u001b[0;34m(v1, v2)\u001b[0m\n\u001b[1;32m     13\u001b[0m     \u001b[0mcross_product\u001b[0m \u001b[0;34m=\u001b[0m \u001b[0mv1\u001b[0m\u001b[0;34m.\u001b[0m\u001b[0mcross\u001b[0m\u001b[0;34m(\u001b[0m\u001b[0mv2\u001b[0m\u001b[0;34m)\u001b[0m\u001b[0;34m\u001b[0m\u001b[0;34m\u001b[0m\u001b[0m\n\u001b[1;32m     14\u001b[0m     \u001b[0;32mif\u001b[0m \u001b[0mcross_product\u001b[0m \u001b[0;34m==\u001b[0m \u001b[0mvector_zero\u001b[0m \u001b[0;32mor\u001b[0m \u001b[0mv1\u001b[0m \u001b[0;34m==\u001b[0m \u001b[0mvector_zero\u001b[0m \u001b[0;32mor\u001b[0m \u001b[0mv2\u001b[0m \u001b[0;34m==\u001b[0m \u001b[0mvector_zero\u001b[0m\u001b[0;34m:\u001b[0m\u001b[0;34m\u001b[0m\u001b[0;34m\u001b[0m\u001b[0m\n\u001b[0;32m---> 15\u001b[0;31m         \u001b[0;32mraise\u001b[0m \u001b[0mValueError\u001b[0m \u001b[0;34m(\u001b[0m\u001b[0;34m'Vectors are parallel or at least one of them is zero.'\u001b[0m\u001b[0;34m)\u001b[0m\u001b[0;34m\u001b[0m\u001b[0;34m\u001b[0m\u001b[0m\n\u001b[0m\u001b[1;32m     16\u001b[0m     \u001b[0mcross_length\u001b[0m \u001b[0;34m=\u001b[0m \u001b[0mcross_product\u001b[0m\u001b[0;34m.\u001b[0m\u001b[0mlength\u001b[0m\u001b[0;34m(\u001b[0m\u001b[0;34m)\u001b[0m\u001b[0;34m\u001b[0m\u001b[0;34m\u001b[0m\u001b[0m\n\u001b[1;32m     17\u001b[0m     \u001b[0mcross_product\u001b[0m\u001b[0;34m.\u001b[0m\u001b[0mx\u001b[0m \u001b[0;34m/=\u001b[0m \u001b[0mcross_length\u001b[0m\u001b[0;34m\u001b[0m\u001b[0;34m\u001b[0m\u001b[0m\n",
      "\u001b[0;31mValueError\u001b[0m: Vectors are parallel or at least one of them is zero."
     ]
    }
   ],
   "source": [
    "find_axis(v1, v3)"
   ]
  },
  {
   "cell_type": "markdown",
   "id": "wanted-regulation",
   "metadata": {},
   "source": [
    "## Exercise 7.2"
   ]
  },
  {
   "cell_type": "code",
   "execution_count": 6,
   "id": "aquatic-calcium",
   "metadata": {},
   "outputs": [],
   "source": [
    "# Iterator based on callable object\n",
    "class mod2:\n",
    "    \n",
    "    def __init__(self):\n",
    "        self.n = 1\n",
    "        \n",
    "    def __call__(self):\n",
    "        self.n += 1\n",
    "        self.n %= 2\n",
    "        return self.n"
   ]
  },
  {
   "cell_type": "code",
   "execution_count": 7,
   "id": "antique-championship",
   "metadata": {},
   "outputs": [],
   "source": [
    "x = mod2()\n",
    "iter_1 = iter(x, 2)"
   ]
  },
  {
   "cell_type": "code",
   "execution_count": 8,
   "id": "intense-queensland",
   "metadata": {},
   "outputs": [
    {
     "name": "stdout",
     "output_type": "stream",
     "text": [
      "0, 1, 0, 1, 0, 1, 0, 1\n"
     ]
    }
   ],
   "source": [
    "for i in range(7):\n",
    "    print(next(iter_1), end = ', ')\n",
    "print(next(iter_1))"
   ]
  },
  {
   "cell_type": "code",
   "execution_count": 9,
   "id": "upset-suite",
   "metadata": {},
   "outputs": [],
   "source": [
    "# Iterator based on callable object\n",
    "iter_2 = iter((lambda: randint(0, 1)), 2)"
   ]
  },
  {
   "cell_type": "code",
   "execution_count": 10,
   "id": "unlikely-atlas",
   "metadata": {},
   "outputs": [
    {
     "name": "stdout",
     "output_type": "stream",
     "text": [
      "1, 0, 0, 0, 1, 0, 0, 1\n"
     ]
    }
   ],
   "source": [
    "for i in range(7):\n",
    "    print(next(iter_2), end = ', ')\n",
    "print(next(iter_2))"
   ]
  },
  {
   "cell_type": "code",
   "execution_count": 11,
   "id": "fallen-broad",
   "metadata": {},
   "outputs": [],
   "source": [
    "# Using itertools cycle\n",
    "iter_3 = cycle([0, 1, 0, -1])"
   ]
  },
  {
   "cell_type": "code",
   "execution_count": 12,
   "id": "absent-candidate",
   "metadata": {},
   "outputs": [
    {
     "name": "stdout",
     "output_type": "stream",
     "text": [
      "0, 1, 0, -1, 0, 1, 0, -1\n"
     ]
    }
   ],
   "source": [
    "for i in range(7):\n",
    "    print(next(iter_3), end = ', ')\n",
    "print(next(iter_3))"
   ]
  },
  {
   "cell_type": "markdown",
   "id": "arabic-collect",
   "metadata": {},
   "source": [
    "## Exercise 7.3"
   ]
  },
  {
   "cell_type": "code",
   "execution_count": 13,
   "id": "sticky-martin",
   "metadata": {},
   "outputs": [
    {
     "data": {
      "text/plain": [
       "array([0. , 0.1, 0.2, 0.3, 0.4, 0.5, 0.6, 0.7, 0.8, 0.9, 1. ])"
      ]
     },
     "execution_count": 13,
     "metadata": {},
     "output_type": "execute_result"
    }
   ],
   "source": [
    "arr = np.linspace(0, 1, num=11, dtype = np.dtype('float'))\n",
    "arr"
   ]
  },
  {
   "cell_type": "code",
   "execution_count": 14,
   "id": "confused-hartford",
   "metadata": {},
   "outputs": [
    {
     "name": "stdout",
     "output_type": "stream",
     "text": [
      "(11,)\n",
      "float64\n"
     ]
    }
   ],
   "source": [
    "print(arr.shape)\n",
    "print(arr.dtype)"
   ]
  },
  {
   "cell_type": "code",
   "execution_count": 15,
   "id": "wrong-deputy",
   "metadata": {},
   "outputs": [
    {
     "data": {
      "text/plain": [
       "array([[0, 0, 0, 0, 0, 0],\n",
       "       [0, 0, 0, 0, 0, 0],\n",
       "       [0, 0, 0, 0, 0, 0],\n",
       "       [0, 0, 0, 0, 0, 0],\n",
       "       [0, 0, 0, 0, 0, 0]], dtype=int8)"
      ]
     },
     "execution_count": 15,
     "metadata": {},
     "output_type": "execute_result"
    }
   ],
   "source": [
    "arr_ = np.zeros((5, 6), dtype = np.dtype('int8'))\n",
    "arr_"
   ]
  },
  {
   "cell_type": "code",
   "execution_count": 16,
   "id": "incorrect-brain",
   "metadata": {},
   "outputs": [
    {
     "name": "stdout",
     "output_type": "stream",
     "text": [
      "(5, 6)\n",
      "int8\n"
     ]
    }
   ],
   "source": [
    "print(arr_.shape)\n",
    "print(arr_.dtype)"
   ]
  },
  {
   "cell_type": "code",
   "execution_count": 17,
   "id": "endless-elephant",
   "metadata": {},
   "outputs": [
    {
     "data": {
      "text/plain": [
       "array([ 0.+1.j, -1.+0.j, -0.-1.j,  1.+0.j,  0.+1.j, -1.+0.j, -0.-1.j,\n",
       "        1.+0.j,  0.+1.j])"
      ]
     },
     "execution_count": 17,
     "metadata": {},
     "output_type": "execute_result"
    }
   ],
   "source": [
    "arr__ = np.array([np.power(1J, i) for i in range(1, 10)], dtype = np.dtype('complex'))\n",
    "arr__"
   ]
  },
  {
   "cell_type": "code",
   "execution_count": 18,
   "id": "gross-replacement",
   "metadata": {},
   "outputs": [
    {
     "name": "stdout",
     "output_type": "stream",
     "text": [
      "(9,)\n",
      "complex128\n"
     ]
    }
   ],
   "source": [
    "print(arr__.shape)\n",
    "print(arr__.dtype)"
   ]
  },
  {
   "cell_type": "code",
   "execution_count": null,
   "id": "cultural-stopping",
   "metadata": {},
   "outputs": [],
   "source": []
  }
 ],
 "metadata": {
  "kernelspec": {
   "display_name": "Python 3",
   "language": "python",
   "name": "python3"
  },
  "language_info": {
   "codemirror_mode": {
    "name": "ipython",
    "version": 3
   },
   "file_extension": ".py",
   "mimetype": "text/x-python",
   "name": "python",
   "nbconvert_exporter": "python",
   "pygments_lexer": "ipython3",
   "version": "3.8.5"
  }
 },
 "nbformat": 4,
 "nbformat_minor": 5
}
