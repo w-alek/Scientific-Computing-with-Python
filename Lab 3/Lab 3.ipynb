{
 "cells": [
  {
   "cell_type": "markdown",
   "id": "reported-highlight",
   "metadata": {},
   "source": [
    "## EXERCISE 3.1"
   ]
  },
  {
   "cell_type": "code",
   "execution_count": 1,
   "id": "electronic-philosophy",
   "metadata": {},
   "outputs": [
    {
     "name": "stdout",
     "output_type": "stream",
     "text": [
      "Python\n"
     ]
    }
   ],
   "source": [
    "word = input()"
   ]
  },
  {
   "cell_type": "code",
   "execution_count": 2,
   "id": "intimate-infrared",
   "metadata": {},
   "outputs": [
    {
     "name": "stdout",
     "output_type": "stream",
     "text": [
      "+---+---+---+---+---+---+\n",
      "| P | y | t | h | o | n |\n",
      "+---+---+---+---+---+---+\n"
     ]
    }
   ],
   "source": [
    "word_length = len(word)\n",
    "line = '+---' * word_length\n",
    "temp = word_length * \"|{:^3}\"\n",
    "print(f'{line}+\\n{temp.format(*word)}|\\n{line}+')"
   ]
  },
  {
   "cell_type": "markdown",
   "id": "palestinian-ordering",
   "metadata": {},
   "source": [
    "## EXERCISE 3.2"
   ]
  },
  {
   "cell_type": "code",
   "execution_count": 3,
   "id": "revised-shell",
   "metadata": {},
   "outputs": [
    {
     "name": "stdout",
     "output_type": "stream",
     "text": [
      "3 is not important\n",
      "3 is not important\n",
      "3 is not important\n",
      "3 is not important\n",
      "10 is divided by 5\n",
      "3 is not important\n",
      "Message\n",
      "3 is not important\n",
      "3 is not important\n",
      "10 is divided by 5\n",
      "3 is not important\n",
      "3 is not important\n",
      "Message\n",
      "10 is divided by 5\n",
      "3 is not important\n",
      "3 is not important\n",
      "3 is not important\n",
      "3 is not important\n",
      "10 is divided by 5\n",
      "Message\n",
      "3 is not important\n",
      "3 is not important\n",
      "3 is not important\n",
      "10 is divided by 5\n",
      "3 is not important\n",
      "3 is not important\n",
      "Message\n",
      "3 is not important\n",
      "10 is divided by 5\n",
      "3 is not important\n",
      "3 is not important\n",
      "3 is not important\n",
      "3 is not important\n",
      "10 is divided by 5\n",
      "Message\n",
      "3 is not important\n",
      "3 is not important\n",
      "3 is not important\n",
      "3 is not important\n",
      "10 is divided by 5\n"
     ]
    }
   ],
   "source": [
    "for i in range(1, 41):\n",
    "    if i % 5 ==0:\n",
    "        print('10 is divided by 5')\n",
    "    if i % 7 == 0:\n",
    "        print('Message')\n",
    "    if i == 13:\n",
    "        continue\n",
    "    if i % 5 != 0 and i % 7 != 0:\n",
    "        print('3 is not important')"
   ]
  },
  {
   "cell_type": "code",
   "execution_count": 4,
   "id": "serious-launch",
   "metadata": {},
   "outputs": [
    {
     "name": "stdout",
     "output_type": "stream",
     "text": [
      "3 is not important\n",
      "3 is not important\n",
      "3 is not important\n",
      "3 is not important\n",
      "10 is divided by 5\n",
      "3 is not important\n",
      "Message\n",
      "3 is not important\n",
      "3 is not important\n",
      "10 is divided by 5\n",
      "3 is not important\n",
      "3 is not important\n",
      "Message\n",
      "10 is divided by 5\n",
      "3 is not important\n",
      "3 is not important\n",
      "3 is not important\n",
      "3 is not important\n",
      "10 is divided by 5\n",
      "Message\n",
      "3 is not important\n",
      "3 is not important\n",
      "3 is not important\n",
      "10 is divided by 5\n",
      "3 is not important\n",
      "3 is not important\n",
      "Message\n",
      "3 is not important\n",
      "10 is divided by 5\n",
      "3 is not important\n",
      "3 is not important\n",
      "3 is not important\n",
      "3 is not important\n",
      "10 is divided by 5\n",
      "Message\n",
      "3 is not important\n",
      "3 is not important\n",
      "3 is not important\n",
      "3 is not important\n",
      "10 is divided by 5\n"
     ]
    }
   ],
   "source": [
    "i = 0\n",
    "while i < 40:\n",
    "    i += 1\n",
    "    if i % 5 ==0:\n",
    "        print('10 is divided by 5')\n",
    "    if i % 7 == 0:\n",
    "        print('Message')\n",
    "    if i == 13:\n",
    "        continue\n",
    "    if i % 5 != 0 and i % 7 != 0:\n",
    "        print('3 is not important')"
   ]
  },
  {
   "cell_type": "markdown",
   "id": "toxic-member",
   "metadata": {},
   "source": [
    "## Exercise 3.3"
   ]
  },
  {
   "cell_type": "code",
   "execution_count": 5,
   "id": "toxic-sunrise",
   "metadata": {},
   "outputs": [],
   "source": [
    "import math"
   ]
  },
  {
   "cell_type": "code",
   "execution_count": 6,
   "id": "meaning-farmer",
   "metadata": {},
   "outputs": [],
   "source": [
    "n = 2021\n",
    "x = float(format(math.pi, '.5f'))\n",
    "word = \"Python\"\n",
    "polish = \"książka\" "
   ]
  },
  {
   "cell_type": "code",
   "execution_count": 7,
   "id": "convinced-attention",
   "metadata": {},
   "outputs": [],
   "source": [
    "list_ = [n, x, word, polish]\n",
    "with open('vars.txt', 'w') as outfile:\n",
    "    for el in list_:\n",
    "        outfile.write(\"{}\\n\".format(el))"
   ]
  },
  {
   "cell_type": "code",
   "execution_count": 8,
   "id": "fourth-floor",
   "metadata": {},
   "outputs": [],
   "source": [
    "with open('vars.txt', 'r') as infile:\n",
    "    text = infile.read()"
   ]
  },
  {
   "cell_type": "code",
   "execution_count": 9,
   "id": "accepted-helicopter",
   "metadata": {},
   "outputs": [
    {
     "name": "stdout",
     "output_type": "stream",
     "text": [
      "2021\n",
      "3.14159\n",
      "Python\n",
      "książka\n"
     ]
    }
   ],
   "source": [
    "print(text[:-1]) #print without last new line"
   ]
  },
  {
   "cell_type": "code",
   "execution_count": null,
   "id": "signal-brisbane",
   "metadata": {},
   "outputs": [],
   "source": []
  }
 ],
 "metadata": {
  "kernelspec": {
   "display_name": "Python 3",
   "language": "python",
   "name": "python3"
  },
  "language_info": {
   "codemirror_mode": {
    "name": "ipython",
    "version": 3
   },
   "file_extension": ".py",
   "mimetype": "text/x-python",
   "name": "python",
   "nbconvert_exporter": "python",
   "pygments_lexer": "ipython3",
   "version": "3.8.5"
  }
 },
 "nbformat": 4,
 "nbformat_minor": 5
}
