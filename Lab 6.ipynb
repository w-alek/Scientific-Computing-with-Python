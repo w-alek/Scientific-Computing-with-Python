{
 "cells": [
  {
   "cell_type": "code",
   "execution_count": 1,
   "id": "inclusive-cargo",
   "metadata": {},
   "outputs": [],
   "source": [
    "class Vector:\n",
    "    '''3D vectors Python class'''\n",
    "    def __init__(self, x, y, z):\n",
    "        self.x = x\n",
    "        self.y = y\n",
    "        self.z = z\n",
    "\n",
    "    def __repr__(self):\n",
    "        ''' string \"Vector(x, y, z)'''\n",
    "        return '{}({}, {}, {})'.format(type(self).__name__, self.x, self.y, self.z) \n",
    "        # or just 'Vector instead of type(self).__name__'\n",
    "\n",
    "    def __eq__(self, other):\n",
    "        '''v == w'''\n",
    "        return self.x == other.x and self.y == other.y and self.z == other.z\n",
    "\n",
    "    def __ne__(self, other):        \n",
    "        '''v != w'''\n",
    "        return not self == other\n",
    "\n",
    "    def __add__(self, other): \n",
    "        '''v + w'''\n",
    "        return Vector(self.x + other.x, self.y + other.y, self.z + other.z)\n",
    "        \n",
    "    \n",
    "    def __sub__(self, other):\n",
    "        '''v - w'''\n",
    "        return Vector(self.x - other.x, self.y - other.y, self.z - other.z)\n",
    "    \n",
    "    def __mul__(self, other):\n",
    "        '''dot product'''\n",
    "        return self.x * other.x + self.y * other.y + self.z * other.z\n",
    "\n",
    "    def cross(self, other):\n",
    "        '''cross product'''\n",
    "        return Vector(self.y * other.z - self.z * other.y, \n",
    "                      self.z * other.x - self.x * other.z, \n",
    "                      self.x * other.y - self.y * other.x)\n",
    "\n",
    "    def length(self):\n",
    "        '''length of the vector'''\n",
    "        return math.sqrt(self.x ** 2 + self.y ** 2 + self.z ** 2)\n",
    "\n",
    "    def __hash__(self):   \n",
    "        '''hash of the vector'''\n",
    "        # we assume that vectors are immutable\n",
    "        return hash((self.x, self.y, self.z))   # recommended"
   ]
  },
  {
   "cell_type": "code",
   "execution_count": 8,
   "id": "polished-mississippi",
   "metadata": {},
   "outputs": [
    {
     "name": "stdout",
     "output_type": "stream",
     "text": [
      "Vector(1, 5, 123)\n",
      "-4671338175092472186\n"
     ]
    }
   ],
   "source": [
    "vec = Vector(1, 5, 123)\n",
    "print(vec)\n",
    "print(hash(vec))"
   ]
  },
  {
   "cell_type": "code",
   "execution_count": 2,
   "id": "organized-rally",
   "metadata": {},
   "outputs": [
    {
     "name": "stdout",
     "output_type": "stream",
     "text": [
      "Tests passed\n"
     ]
    }
   ],
   "source": [
    "import math\n",
    "v = Vector(1, 2, 3)\n",
    "w = Vector(2, -3, 2)\n",
    "assert v != w\n",
    "assert v + w == Vector(3, -1, 5)\n",
    "assert v - w == Vector(-1, 5, 1)\n",
    "assert v * w == 2\n",
    "assert v.cross(w) == Vector(13, 4, -7)\n",
    "assert v.length() == math.sqrt(14)\n",
    "S = set([v, v, w])\n",
    "assert len(S) == 2\n",
    "\n",
    "print(\"Tests passed\")"
   ]
  }
 ],
 "metadata": {
  "kernelspec": {
   "display_name": "Python 3",
   "language": "python",
   "name": "python3"
  },
  "language_info": {
   "codemirror_mode": {
    "name": "ipython",
    "version": 3
   },
   "file_extension": ".py",
   "mimetype": "text/x-python",
   "name": "python",
   "nbconvert_exporter": "python",
   "pygments_lexer": "ipython3",
   "version": "3.8.5"
  }
 },
 "nbformat": 4,
 "nbformat_minor": 5
}
