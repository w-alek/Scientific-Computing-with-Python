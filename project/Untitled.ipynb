{
 "cells": [
  {
   "cell_type": "code",
   "execution_count": 1,
   "source": [
    "import os\n",
    "import PIL\n",
    "from PIL import Image\n",
    "from helper import resize_func, looking, copy\n",
    "import preprocessing\n",
    "import numpy as np\n",
    "import matplotlib.pyplot as plt"
   ],
   "outputs": [],
   "metadata": {}
  },
  {
   "cell_type": "code",
   "execution_count": 2,
   "source": [
    "all_images = list()\n",
    "root_list = list()\n",
    "files_list = list()"
   ],
   "outputs": [],
   "metadata": {}
  },
  {
   "cell_type": "code",
   "execution_count": 3,
   "source": [
    "modified_path = 'data'\n",
    "resize = (16, 16)"
   ],
   "outputs": [],
   "metadata": {}
  },
  {
   "cell_type": "code",
   "execution_count": 4,
   "source": [
    "for root, dirs, files in os.walk(modified_path):\n",
    "    for file in files:\n",
    "        try:\n",
    "            img = Image.open(os.path.join(root, file))\n",
    "        except PIL.UnidentifiedImageError:\n",
    "            print('Not supported PIL format for', os.path.join(root, file), '- this file will be removed')\n",
    "        resized_img = resize_func(img, *resize)\n",
    "        img_np = np.asarray(resized_img)\n",
    "        all_images.append(img_np)\n",
    "        root_list.append(root)\n",
    "        files_list.append(file)"
   ],
   "outputs": [
    {
     "output_type": "stream",
     "name": "stdout",
     "text": [
      "Not supported PIL format for data/test/__credits.json - this file will be removed\n",
      "Not supported PIL format for data/test/aa/requirements.txt - this file will be removed\n"
     ]
    }
   ],
   "metadata": {}
  },
  {
   "cell_type": "code",
   "execution_count": 5,
   "source": [
    "len(all_images)"
   ],
   "outputs": [
    {
     "output_type": "execute_result",
     "data": {
      "text/plain": [
       "58"
      ]
     },
     "metadata": {},
     "execution_count": 5
    }
   ],
   "metadata": {}
  },
  {
   "cell_type": "code",
   "execution_count": 6,
   "source": [
    "def plotImage(X):\n",
    "    plt.figure(figsize=(1.5, 1.5))\n",
    "    plt.imshow(X)\n",
    "    plt.show()\n",
    "    plt.close()"
   ],
   "outputs": [],
   "metadata": {}
  },
  {
   "cell_type": "code",
   "execution_count": 7,
   "source": [
    "plotImage(all_images[1])"
   ],
   "outputs": [
    {
     "output_type": "display_data",
     "data": {
      "image/png": "[encoded data removed]",
      "text/plain": [
       "<Figure size 108x108 with 1 Axes>"
      ]
     },
     "metadata": {
      "needs_background": "light"
     }
    }
   ],
   "metadata": {}
  },
  {
   "cell_type": "code",
   "execution_count": 8,
   "source": [
    "all_images = np.asarray(all_images)"
   ],
   "outputs": [],
   "metadata": {}
  },
  {
   "cell_type": "code",
   "execution_count": 9,
   "source": [
    "print(all_images)"
   ],
   "outputs": [
    {
     "output_type": "stream",
     "name": "stdout",
     "text": [
      "[[[[  0   0   0]\n",
      "   [  0   0   0]\n",
      "   [  0   0   0]\n",
      "   ...\n",
      "   [  0   0   0]\n",
      "   [  0   0   0]\n",
      "   [  0   0   0]]\n",
      "\n",
      "  [[  0   0   0]\n",
      "   [  0   0   0]\n",
      "   [  0   0   0]\n",
      "   ...\n",
      "   [  0   0   0]\n",
      "   [  0   0   0]\n",
      "   [  0   0   0]]\n",
      "\n",
      "  [[  0   0   0]\n",
      "   [  0   0   0]\n",
      "   [  0   0   0]\n",
      "   ...\n",
      "   [  0   0   0]\n",
      "   [  0   0   0]\n",
      "   [  0   0   0]]\n",
      "\n",
      "  ...\n",
      "\n",
      "  [[236 235 234]\n",
      "   [241 241 240]\n",
      "   [245 245 244]\n",
      "   ...\n",
      "   [236 236 233]\n",
      "   [230 230 226]\n",
      "   [227 226 222]]\n",
      "\n",
      "  [[233 232 229]\n",
      "   [237 236 234]\n",
      "   [241 240 238]\n",
      "   ...\n",
      "   [243 242 239]\n",
      "   [240 240 237]\n",
      "   [238 238 235]]\n",
      "\n",
      "  [[244 244 242]\n",
      "   [245 245 243]\n",
      "   [246 246 244]\n",
      "   ...\n",
      "   [251 251 250]\n",
      "   [250 250 249]\n",
      "   [249 249 248]]]\n",
      "\n",
      "\n",
      " [[[ 39  55  63]\n",
      "   [ 38  53  62]\n",
      "   [ 39  54  63]\n",
      "   ...\n",
      "   [ 33  50  58]\n",
      "   [ 32  49  57]\n",
      "   [ 28  44  52]]\n",
      "\n",
      "  [[ 55  71  79]\n",
      "   [ 59  76  83]\n",
      "   [ 53  69  76]\n",
      "   ...\n",
      "   [ 47  65  74]\n",
      "   [ 47  65  74]\n",
      "   [ 43  60  69]]\n",
      "\n",
      "  [[ 58  72  78]\n",
      "   [ 77  91  96]\n",
      "   [ 86  96 100]\n",
      "   ...\n",
      "   [ 62  80  90]\n",
      "   [ 62  80  90]\n",
      "   [ 62  81  90]]\n",
      "\n",
      "  ...\n",
      "\n",
      "  [[ 30  13  12]\n",
      "   [ 46  34  33]\n",
      "   [ 51  55  57]\n",
      "   ...\n",
      "   [ 34  16  13]\n",
      "   [ 25  23  25]\n",
      "   [ 15  13  14]]\n",
      "\n",
      "  [[ 12   9  11]\n",
      "   [ 20  16  16]\n",
      "   [ 27  24  26]\n",
      "   ...\n",
      "   [ 11   8   8]\n",
      "   [ 24  20  21]\n",
      "   [  7   6   7]]\n",
      "\n",
      "  [[  4   5   6]\n",
      "   [ 32  42  48]\n",
      "   [ 45  64  74]\n",
      "   ...\n",
      "   [  3   3   3]\n",
      "   [  3   3   3]\n",
      "   [  2   2   3]]]\n",
      "\n",
      "\n",
      " [[[180 167 145]\n",
      "   [184 171 149]\n",
      "   [186 173 152]\n",
      "   ...\n",
      "   [184 171 150]\n",
      "   [181 167 145]\n",
      "   [158 145 119]]\n",
      "\n",
      "  [[183 171 150]\n",
      "   [189 179 160]\n",
      "   [190 180 162]\n",
      "   ...\n",
      "   [186 176 157]\n",
      "   [179 167 146]\n",
      "   [120 109  82]]\n",
      "\n",
      "  [[189 180 164]\n",
      "   [198 191 178]\n",
      "   [202 196 184]\n",
      "   ...\n",
      "   [196 189 175]\n",
      "   [175 165 146]\n",
      "   [105  95  70]]\n",
      "\n",
      "  ...\n",
      "\n",
      "  [[ 64  60  33]\n",
      "   [138 134 120]\n",
      "   [219 220 215]\n",
      "   ...\n",
      "   [146 142 125]\n",
      "   [ 54  50  29]\n",
      "   [ 52  48  27]]\n",
      "\n",
      "  [[ 60  46  24]\n",
      "   [ 97  82  60]\n",
      "   [188 176 161]\n",
      "   ...\n",
      "   [166 157 141]\n",
      "   [ 88  75  54]\n",
      "   [ 61  53  30]]\n",
      "\n",
      "  [[139 110  80]\n",
      "   [153 121  88]\n",
      "   [144 112  80]\n",
      "   ...\n",
      "   [144 118  91]\n",
      "   [116  88  60]\n",
      "   [ 96  70  44]]]\n",
      "\n",
      "\n",
      " ...\n",
      "\n",
      "\n",
      " [[[255 255 255]\n",
      "   [255 255 255]\n",
      "   [255 255 255]\n",
      "   ...\n",
      "   [254 247 242]\n",
      "   [181 155 131]\n",
      "   [167 102  34]]\n",
      "\n",
      "  [[249 195 185]\n",
      "   [247 219 201]\n",
      "   [255 245 225]\n",
      "   ...\n",
      "   [174 128  77]\n",
      "   [ 92  59  27]\n",
      "   [ 96  58  20]]\n",
      "\n",
      "  [[204 103  93]\n",
      "   [206 122  83]\n",
      "   [236 167  96]\n",
      "   ...\n",
      "   [130  74  14]\n",
      "   [103  58  22]\n",
      "   [ 91  62  15]]\n",
      "\n",
      "  ...\n",
      "\n",
      "  [[ 64  52  57]\n",
      "   [ 41  22  24]\n",
      "   [ 71  55  60]\n",
      "   ...\n",
      "   [ 39  30  20]\n",
      "   [ 30  23  15]\n",
      "   [ 38  32  17]]\n",
      "\n",
      "  [[ 42  29  30]\n",
      "   [ 55  40  43]\n",
      "   [ 77  62  66]\n",
      "   ...\n",
      "   [ 35  27  17]\n",
      "   [ 25  19  12]\n",
      "   [ 36  30  15]]\n",
      "\n",
      "  [[ 41  28  29]\n",
      "   [ 95  85  91]\n",
      "   [109  99 104]\n",
      "   ...\n",
      "   [ 30  22  15]\n",
      "   [ 24  18  12]\n",
      "   [ 50  40  17]]]\n",
      "\n",
      "\n",
      " [[[142 169 184]\n",
      "   [200 212 214]\n",
      "   [240 243 239]\n",
      "   ...\n",
      "   [197 194 199]\n",
      "   [197 182 183]\n",
      "   [183 163 164]]\n",
      "\n",
      "  [[129 160 180]\n",
      "   [168 185 193]\n",
      "   [171 198 207]\n",
      "   ...\n",
      "   [197 189 194]\n",
      "   [216 194 184]\n",
      "   [225 196 177]]\n",
      "\n",
      "  [[189 199 204]\n",
      "   [221 226 226]\n",
      "   [241 244 244]\n",
      "   ...\n",
      "   [236 218 205]\n",
      "   [241 222 201]\n",
      "   [243 220 194]]\n",
      "\n",
      "  ...\n",
      "\n",
      "  [[ 84  93 111]\n",
      "   [ 90  98 115]\n",
      "   [ 99 109 127]\n",
      "   ...\n",
      "   [136 133 156]\n",
      "   [126 121 144]\n",
      "   [126 123 145]]\n",
      "\n",
      "  [[ 71  78  96]\n",
      "   [ 79  85 103]\n",
      "   [ 83  92 109]\n",
      "   ...\n",
      "   [101  97 117]\n",
      "   [105 100 121]\n",
      "   [113 104 126]]\n",
      "\n",
      "  [[ 50  67  88]\n",
      "   [ 59  79 100]\n",
      "   [ 66  83 103]\n",
      "   ...\n",
      "   [112 107 133]\n",
      "   [ 88  84 105]\n",
      "   [ 75  69  86]]]\n",
      "\n",
      "\n",
      " [[[ 36  31  29]\n",
      "   [ 38  33  30]\n",
      "   [ 38  34  31]\n",
      "   ...\n",
      "   [ 35  33  30]\n",
      "   [ 35  32  29]\n",
      "   [ 35  31  29]]\n",
      "\n",
      "  [[ 50  36  34]\n",
      "   [ 52  39  36]\n",
      "   [ 52  39  37]\n",
      "   ...\n",
      "   [ 39  36  34]\n",
      "   [ 40  35  32]\n",
      "   [ 43  35  32]]\n",
      "\n",
      "  [[ 77  52  51]\n",
      "   [101  67  65]\n",
      "   [105  74  70]\n",
      "   ...\n",
      "   [ 69  62  61]\n",
      "   [ 71  58  56]\n",
      "   [ 55  46  44]]\n",
      "\n",
      "  ...\n",
      "\n",
      "  [[ 76  58  55]\n",
      "   [ 83  74  72]\n",
      "   [ 94  87  85]\n",
      "   ...\n",
      "   [ 75 114 115]\n",
      "   [ 50  70  69]\n",
      "   [ 36  49  49]]\n",
      "\n",
      "  [[ 73  96  99]\n",
      "   [121 131 133]\n",
      "   [169 163 160]\n",
      "   ...\n",
      "   [ 70 134 141]\n",
      "   [ 57 121 127]\n",
      "   [ 44  98 103]]\n",
      "\n",
      "  [[ 96 114 117]\n",
      "   [188 165 159]\n",
      "   [211 178 168]\n",
      "   ...\n",
      "   [ 98 138 147]\n",
      "   [ 65 131 140]\n",
      "   [ 38 111 118]]]]\n"
     ]
    }
   ],
   "metadata": {}
  },
  {
   "cell_type": "code",
   "execution_count": 10,
   "source": [
    "all_images.shape"
   ],
   "outputs": [
    {
     "output_type": "execute_result",
     "data": {
      "text/plain": [
       "(58, 16, 16, 3)"
      ]
     },
     "metadata": {},
     "execution_count": 10
    }
   ],
   "metadata": {}
  },
  {
   "cell_type": "code",
   "execution_count": 11,
   "source": [
    "X = all_images"
   ],
   "outputs": [],
   "metadata": {}
  },
  {
   "cell_type": "code",
   "execution_count": 12,
   "source": [
    "X = X.reshape(X.shape[0], X.shape[1]*X.shape[2]*X.shape[3])\n",
    "print(X.shape)"
   ],
   "outputs": [
    {
     "output_type": "stream",
     "name": "stdout",
     "text": [
      "(58, 768)\n"
     ]
    }
   ],
   "metadata": {}
  },
  {
   "cell_type": "code",
   "execution_count": 13,
   "source": [
    "print(X)"
   ],
   "outputs": [
    {
     "output_type": "stream",
     "name": "stdout",
     "text": [
      "[[  0   0   0 ... 249 249 248]\n",
      " [ 39  55  63 ...   2   2   3]\n",
      " [180 167 145 ...  96  70  44]\n",
      " ...\n",
      " [255 255 255 ...  50  40  17]\n",
      " [142 169 184 ...  75  69  86]\n",
      " [ 36  31  29 ...  38 111 118]]\n"
     ]
    }
   ],
   "metadata": {}
  },
  {
   "cell_type": "code",
   "execution_count": 14,
   "source": [
    "X_norm = X / 255.\n",
    "print('X.min()', X_norm.min())\n",
    "print('X.max()', X_norm.max())"
   ],
   "outputs": [
    {
     "output_type": "stream",
     "name": "stdout",
     "text": [
      "X.min() 0.0\n",
      "X.max() 1.0\n"
     ]
    }
   ],
   "metadata": {}
  },
  {
   "cell_type": "code",
   "execution_count": 15,
   "source": [
    "print(X_norm)"
   ],
   "outputs": [
    {
     "output_type": "stream",
     "name": "stdout",
     "text": [
      "[[0.         0.         0.         ... 0.97647059 0.97647059 0.97254902]\n",
      " [0.15294118 0.21568627 0.24705882 ... 0.00784314 0.00784314 0.01176471]\n",
      " [0.70588235 0.65490196 0.56862745 ... 0.37647059 0.2745098  0.17254902]\n",
      " ...\n",
      " [1.         1.         1.         ... 0.19607843 0.15686275 0.06666667]\n",
      " [0.55686275 0.6627451  0.72156863 ... 0.29411765 0.27058824 0.3372549 ]\n",
      " [0.14117647 0.12156863 0.11372549 ... 0.14901961 0.43529412 0.4627451 ]]\n"
     ]
    }
   ],
   "metadata": {}
  },
  {
   "cell_type": "code",
   "execution_count": 16,
   "source": [
    "X_norm = X_norm - X_norm.mean(axis=0)"
   ],
   "outputs": [],
   "metadata": {}
  },
  {
   "cell_type": "code",
   "execution_count": 17,
   "source": [
    "cov = np.cov(X_norm, rowvar=False)"
   ],
   "outputs": [],
   "metadata": {}
  },
  {
   "cell_type": "code",
   "execution_count": 18,
   "source": [
    "print(cov)"
   ],
   "outputs": [
    {
     "output_type": "stream",
     "name": "stdout",
     "text": [
      "[[0.10610433 0.09130678 0.08556076 ... 0.04391058 0.03927089 0.03735326]\n",
      " [0.09130678 0.09865294 0.09522425 ... 0.0439497  0.04398973 0.03974883]\n",
      " [0.08556076 0.09522425 0.0956219  ... 0.04100473 0.04206918 0.0378456 ]\n",
      " ...\n",
      " [0.04391058 0.0439497  0.04100473 ... 0.09395906 0.08634813 0.08082665]\n",
      " [0.03927089 0.04398973 0.04206918 ... 0.08634813 0.08778529 0.0825597 ]\n",
      " [0.03735326 0.03974883 0.0378456  ... 0.08082665 0.0825597  0.08552621]]\n"
     ]
    }
   ],
   "metadata": {}
  },
  {
   "cell_type": "code",
   "execution_count": 19,
   "source": [
    "cov.shape"
   ],
   "outputs": [
    {
     "output_type": "execute_result",
     "data": {
      "text/plain": [
       "(768, 768)"
      ]
     },
     "metadata": {},
     "execution_count": 19
    }
   ],
   "metadata": {}
  },
  {
   "cell_type": "code",
   "execution_count": 20,
   "source": [
    "U,S,V = np.linalg.svd(cov)"
   ],
   "outputs": [],
   "metadata": {}
  },
  {
   "cell_type": "code",
   "execution_count": 21,
   "source": [
    "print (U.shape, S.shape)"
   ],
   "outputs": [
    {
     "output_type": "stream",
     "name": "stdout",
     "text": [
      "(768, 768) (768,)\n"
     ]
    }
   ],
   "metadata": {}
  },
  {
   "cell_type": "code",
   "execution_count": 22,
   "source": [
    "print(np.diag(S))\n",
    "print('\\nshape:', np.diag(S).shape)"
   ],
   "outputs": [
    {
     "output_type": "stream",
     "name": "stdout",
     "text": [
      "[[2.82803724e+01 0.00000000e+00 0.00000000e+00 ... 0.00000000e+00\n",
      "  0.00000000e+00 0.00000000e+00]\n",
      " [0.00000000e+00 7.09916255e+00 0.00000000e+00 ... 0.00000000e+00\n",
      "  0.00000000e+00 0.00000000e+00]\n",
      " [0.00000000e+00 0.00000000e+00 3.74669192e+00 ... 0.00000000e+00\n",
      "  0.00000000e+00 0.00000000e+00]\n",
      " ...\n",
      " [0.00000000e+00 0.00000000e+00 0.00000000e+00 ... 2.71851690e-15\n",
      "  0.00000000e+00 0.00000000e+00]\n",
      " [0.00000000e+00 0.00000000e+00 0.00000000e+00 ... 0.00000000e+00\n",
      "  1.58018921e-15 0.00000000e+00]\n",
      " [0.00000000e+00 0.00000000e+00 0.00000000e+00 ... 0.00000000e+00\n",
      "  0.00000000e+00 1.25419976e-15]]\n",
      "\n",
      "shape: (768, 768)\n"
     ]
    }
   ],
   "metadata": {}
  },
  {
   "cell_type": "code",
   "execution_count": 23,
   "source": [
    "epsilon = 0.1\n",
    "X_ZCA = U.dot(np.diag(1.0/np.sqrt(S + epsilon))).dot(U.T).dot(X_norm.T).T"
   ],
   "outputs": [],
   "metadata": {}
  },
  {
   "cell_type": "code",
   "execution_count": 24,
   "source": [
    "X_ZCA.shape"
   ],
   "outputs": [
    {
     "output_type": "execute_result",
     "data": {
      "text/plain": [
       "(58, 768)"
      ]
     },
     "metadata": {},
     "execution_count": 24
    }
   ],
   "metadata": {}
  },
  {
   "cell_type": "code",
   "execution_count": 25,
   "source": [
    "X_ZCA"
   ],
   "outputs": [
    {
     "output_type": "execute_result",
     "data": {
      "text/plain": [
       "array([[-0.08999778, -0.08550067, -0.10725432, ...,  0.20481568,\n",
       "         0.21535656,  0.25686849],\n",
       "       [-0.21987148, -0.11976806, -0.08364736, ..., -0.21761806,\n",
       "        -0.16301765, -0.17756534],\n",
       "       [ 0.1726985 ,  0.09058686,  0.01089139, ..., -0.09261114,\n",
       "        -0.1465884 , -0.24945473],\n",
       "       ...,\n",
       "       [ 0.42245653,  0.55659707,  0.58372245, ..., -0.20554207,\n",
       "        -0.15975063, -0.27483765],\n",
       "       [-0.27987725, -0.14376518,  0.00913874, ..., -0.31113469,\n",
       "        -0.2823538 , -0.14770129],\n",
       "       [-0.15616913, -0.24623888, -0.22161624, ..., -0.29658578,\n",
       "         0.18034176,  0.26553539]])"
      ]
     },
     "metadata": {},
     "execution_count": 25
    }
   ],
   "metadata": {}
  },
  {
   "cell_type": "code",
   "execution_count": null,
   "source": [
    "plotImage(X_ZCA[1, :])"
   ],
   "outputs": [],
   "metadata": {}
  },
  {
   "cell_type": "code",
   "execution_count": null,
   "source": [
    "plotImage(X_ZCA_rescaled[2, :])"
   ],
   "outputs": [],
   "metadata": {}
  },
  {
   "cell_type": "code",
   "execution_count": 26,
   "source": [
    "X_ZCA_rescaled = (X_ZCA - X_ZCA.min()) / (X_ZCA.max() - X_ZCA.min())"
   ],
   "outputs": [],
   "metadata": {}
  },
  {
   "cell_type": "code",
   "execution_count": 27,
   "source": [
    "X_ZCA_rescaled.shape"
   ],
   "outputs": [
    {
     "output_type": "execute_result",
     "data": {
      "text/plain": [
       "(58, 768)"
      ]
     },
     "metadata": {},
     "execution_count": 27
    }
   ],
   "metadata": {}
  },
  {
   "cell_type": "code",
   "execution_count": 28,
   "source": [
    "plotImage(X[2, :])"
   ],
   "outputs": [
    {
     "output_type": "error",
     "ename": "TypeError",
     "evalue": "Invalid shape (768,) for image data",
     "traceback": [
      "\u001b[0;31m---------------------------------------------------------------------------\u001b[0m",
      "\u001b[0;31mTypeError\u001b[0m                                 Traceback (most recent call last)",
      "\u001b[0;32m/tmp/ipykernel_67873/2544937097.py\u001b[0m in \u001b[0;36m<module>\u001b[0;34m\u001b[0m\n\u001b[0;32m----> 1\u001b[0;31m \u001b[0mplotImage\u001b[0m\u001b[0;34m(\u001b[0m\u001b[0mX\u001b[0m\u001b[0;34m[\u001b[0m\u001b[0;36m2\u001b[0m\u001b[0;34m,\u001b[0m \u001b[0;34m:\u001b[0m\u001b[0;34m]\u001b[0m\u001b[0;34m)\u001b[0m\u001b[0;34m\u001b[0m\u001b[0;34m\u001b[0m\u001b[0m\n\u001b[0m",
      "\u001b[0;32m/tmp/ipykernel_67873/275012747.py\u001b[0m in \u001b[0;36mplotImage\u001b[0;34m(X)\u001b[0m\n\u001b[1;32m      1\u001b[0m \u001b[0;32mdef\u001b[0m \u001b[0mplotImage\u001b[0m\u001b[0;34m(\u001b[0m\u001b[0mX\u001b[0m\u001b[0;34m)\u001b[0m\u001b[0;34m:\u001b[0m\u001b[0;34m\u001b[0m\u001b[0;34m\u001b[0m\u001b[0m\n\u001b[1;32m      2\u001b[0m     \u001b[0mplt\u001b[0m\u001b[0;34m.\u001b[0m\u001b[0mfigure\u001b[0m\u001b[0;34m(\u001b[0m\u001b[0mfigsize\u001b[0m\u001b[0;34m=\u001b[0m\u001b[0;34m(\u001b[0m\u001b[0;36m1.5\u001b[0m\u001b[0;34m,\u001b[0m \u001b[0;36m1.5\u001b[0m\u001b[0;34m)\u001b[0m\u001b[0;34m)\u001b[0m\u001b[0;34m\u001b[0m\u001b[0;34m\u001b[0m\u001b[0m\n\u001b[0;32m----> 3\u001b[0;31m     \u001b[0mplt\u001b[0m\u001b[0;34m.\u001b[0m\u001b[0mimshow\u001b[0m\u001b[0;34m(\u001b[0m\u001b[0mX\u001b[0m\u001b[0;34m)\u001b[0m\u001b[0;34m\u001b[0m\u001b[0;34m\u001b[0m\u001b[0m\n\u001b[0m\u001b[1;32m      4\u001b[0m     \u001b[0mplt\u001b[0m\u001b[0;34m.\u001b[0m\u001b[0mshow\u001b[0m\u001b[0;34m(\u001b[0m\u001b[0;34m)\u001b[0m\u001b[0;34m\u001b[0m\u001b[0;34m\u001b[0m\u001b[0m\n\u001b[1;32m      5\u001b[0m     \u001b[0mplt\u001b[0m\u001b[0;34m.\u001b[0m\u001b[0mclose\u001b[0m\u001b[0;34m(\u001b[0m\u001b[0;34m)\u001b[0m\u001b[0;34m\u001b[0m\u001b[0;34m\u001b[0m\u001b[0m\n",
      "\u001b[0;32m~/scientific_comp/project/venv/lib/python3.8/site-packages/matplotlib/pyplot.py\u001b[0m in \u001b[0;36mimshow\u001b[0;34m(X, cmap, norm, aspect, interpolation, alpha, vmin, vmax, origin, extent, filternorm, filterrad, resample, url, data, **kwargs)\u001b[0m\n\u001b[1;32m   2901\u001b[0m         \u001b[0mfilternorm\u001b[0m\u001b[0;34m=\u001b[0m\u001b[0;32mTrue\u001b[0m\u001b[0;34m,\u001b[0m \u001b[0mfilterrad\u001b[0m\u001b[0;34m=\u001b[0m\u001b[0;36m4.0\u001b[0m\u001b[0;34m,\u001b[0m \u001b[0mresample\u001b[0m\u001b[0;34m=\u001b[0m\u001b[0;32mNone\u001b[0m\u001b[0;34m,\u001b[0m \u001b[0murl\u001b[0m\u001b[0;34m=\u001b[0m\u001b[0;32mNone\u001b[0m\u001b[0;34m,\u001b[0m\u001b[0;34m\u001b[0m\u001b[0;34m\u001b[0m\u001b[0m\n\u001b[1;32m   2902\u001b[0m         data=None, **kwargs):\n\u001b[0;32m-> 2903\u001b[0;31m     __ret = gca().imshow(\n\u001b[0m\u001b[1;32m   2904\u001b[0m         \u001b[0mX\u001b[0m\u001b[0;34m,\u001b[0m \u001b[0mcmap\u001b[0m\u001b[0;34m=\u001b[0m\u001b[0mcmap\u001b[0m\u001b[0;34m,\u001b[0m \u001b[0mnorm\u001b[0m\u001b[0;34m=\u001b[0m\u001b[0mnorm\u001b[0m\u001b[0;34m,\u001b[0m \u001b[0maspect\u001b[0m\u001b[0;34m=\u001b[0m\u001b[0maspect\u001b[0m\u001b[0;34m,\u001b[0m\u001b[0;34m\u001b[0m\u001b[0;34m\u001b[0m\u001b[0m\n\u001b[1;32m   2905\u001b[0m         \u001b[0minterpolation\u001b[0m\u001b[0;34m=\u001b[0m\u001b[0minterpolation\u001b[0m\u001b[0;34m,\u001b[0m \u001b[0malpha\u001b[0m\u001b[0;34m=\u001b[0m\u001b[0malpha\u001b[0m\u001b[0;34m,\u001b[0m \u001b[0mvmin\u001b[0m\u001b[0;34m=\u001b[0m\u001b[0mvmin\u001b[0m\u001b[0;34m,\u001b[0m\u001b[0;34m\u001b[0m\u001b[0;34m\u001b[0m\u001b[0m\n",
      "\u001b[0;32m~/scientific_comp/project/venv/lib/python3.8/site-packages/matplotlib/__init__.py\u001b[0m in \u001b[0;36minner\u001b[0;34m(ax, data, *args, **kwargs)\u001b[0m\n\u001b[1;32m   1359\u001b[0m     \u001b[0;32mdef\u001b[0m \u001b[0minner\u001b[0m\u001b[0;34m(\u001b[0m\u001b[0max\u001b[0m\u001b[0;34m,\u001b[0m \u001b[0;34m*\u001b[0m\u001b[0margs\u001b[0m\u001b[0;34m,\u001b[0m \u001b[0mdata\u001b[0m\u001b[0;34m=\u001b[0m\u001b[0;32mNone\u001b[0m\u001b[0;34m,\u001b[0m \u001b[0;34m**\u001b[0m\u001b[0mkwargs\u001b[0m\u001b[0;34m)\u001b[0m\u001b[0;34m:\u001b[0m\u001b[0;34m\u001b[0m\u001b[0;34m\u001b[0m\u001b[0m\n\u001b[1;32m   1360\u001b[0m         \u001b[0;32mif\u001b[0m \u001b[0mdata\u001b[0m \u001b[0;32mis\u001b[0m \u001b[0;32mNone\u001b[0m\u001b[0;34m:\u001b[0m\u001b[0;34m\u001b[0m\u001b[0;34m\u001b[0m\u001b[0m\n\u001b[0;32m-> 1361\u001b[0;31m             \u001b[0;32mreturn\u001b[0m \u001b[0mfunc\u001b[0m\u001b[0;34m(\u001b[0m\u001b[0max\u001b[0m\u001b[0;34m,\u001b[0m \u001b[0;34m*\u001b[0m\u001b[0mmap\u001b[0m\u001b[0;34m(\u001b[0m\u001b[0msanitize_sequence\u001b[0m\u001b[0;34m,\u001b[0m \u001b[0margs\u001b[0m\u001b[0;34m)\u001b[0m\u001b[0;34m,\u001b[0m \u001b[0;34m**\u001b[0m\u001b[0mkwargs\u001b[0m\u001b[0;34m)\u001b[0m\u001b[0;34m\u001b[0m\u001b[0;34m\u001b[0m\u001b[0m\n\u001b[0m\u001b[1;32m   1362\u001b[0m \u001b[0;34m\u001b[0m\u001b[0m\n\u001b[1;32m   1363\u001b[0m         \u001b[0mbound\u001b[0m \u001b[0;34m=\u001b[0m \u001b[0mnew_sig\u001b[0m\u001b[0;34m.\u001b[0m\u001b[0mbind\u001b[0m\u001b[0;34m(\u001b[0m\u001b[0max\u001b[0m\u001b[0;34m,\u001b[0m \u001b[0;34m*\u001b[0m\u001b[0margs\u001b[0m\u001b[0;34m,\u001b[0m \u001b[0;34m**\u001b[0m\u001b[0mkwargs\u001b[0m\u001b[0;34m)\u001b[0m\u001b[0;34m\u001b[0m\u001b[0;34m\u001b[0m\u001b[0m\n",
      "\u001b[0;32m~/scientific_comp/project/venv/lib/python3.8/site-packages/matplotlib/axes/_axes.py\u001b[0m in \u001b[0;36mimshow\u001b[0;34m(self, X, cmap, norm, aspect, interpolation, alpha, vmin, vmax, origin, extent, filternorm, filterrad, resample, url, **kwargs)\u001b[0m\n\u001b[1;32m   5607\u001b[0m                               resample=resample, **kwargs)\n\u001b[1;32m   5608\u001b[0m \u001b[0;34m\u001b[0m\u001b[0m\n\u001b[0;32m-> 5609\u001b[0;31m         \u001b[0mim\u001b[0m\u001b[0;34m.\u001b[0m\u001b[0mset_data\u001b[0m\u001b[0;34m(\u001b[0m\u001b[0mX\u001b[0m\u001b[0;34m)\u001b[0m\u001b[0;34m\u001b[0m\u001b[0;34m\u001b[0m\u001b[0m\n\u001b[0m\u001b[1;32m   5610\u001b[0m         \u001b[0mim\u001b[0m\u001b[0;34m.\u001b[0m\u001b[0mset_alpha\u001b[0m\u001b[0;34m(\u001b[0m\u001b[0malpha\u001b[0m\u001b[0;34m)\u001b[0m\u001b[0;34m\u001b[0m\u001b[0;34m\u001b[0m\u001b[0m\n\u001b[1;32m   5611\u001b[0m         \u001b[0;32mif\u001b[0m \u001b[0mim\u001b[0m\u001b[0;34m.\u001b[0m\u001b[0mget_clip_path\u001b[0m\u001b[0;34m(\u001b[0m\u001b[0;34m)\u001b[0m \u001b[0;32mis\u001b[0m \u001b[0;32mNone\u001b[0m\u001b[0;34m:\u001b[0m\u001b[0;34m\u001b[0m\u001b[0;34m\u001b[0m\u001b[0m\n",
      "\u001b[0;32m~/scientific_comp/project/venv/lib/python3.8/site-packages/matplotlib/image.py\u001b[0m in \u001b[0;36mset_data\u001b[0;34m(self, A)\u001b[0m\n\u001b[1;32m    707\u001b[0m         if not (self._A.ndim == 2\n\u001b[1;32m    708\u001b[0m                 or self._A.ndim == 3 and self._A.shape[-1] in [3, 4]):\n\u001b[0;32m--> 709\u001b[0;31m             raise TypeError(\"Invalid shape {} for image data\"\n\u001b[0m\u001b[1;32m    710\u001b[0m                             .format(self._A.shape))\n\u001b[1;32m    711\u001b[0m \u001b[0;34m\u001b[0m\u001b[0m\n",
      "\u001b[0;31mTypeError\u001b[0m: Invalid shape (768,) for image data"
     ]
    },
    {
     "output_type": "display_data",
     "data": {
      "image/png": "[encoded data removed]",
      "text/plain": [
       "<Figure size 108x108 with 1 Axes>"
      ]
     },
     "metadata": {
      "needs_background": "light"
     }
    }
   ],
   "metadata": {}
  },
  {
   "cell_type": "code",
   "execution_count": null,
   "source": [
    "X = X.reshape(3, 16, 16, 3)"
   ],
   "outputs": [],
   "metadata": {}
  },
  {
   "cell_type": "code",
   "execution_count": null,
   "source": [
    "X_ZCA = X_ZCA.reshape(58, 16, 16, 3)"
   ],
   "outputs": [],
   "metadata": {}
  },
  {
   "cell_type": "code",
   "execution_count": null,
   "source": [
    "X_ZCA_rescaled = X_ZCA_rescaled.reshape(58, 16, 16, 3)"
   ],
   "outputs": [],
   "metadata": {}
  },
  {
   "cell_type": "code",
   "execution_count": null,
   "source": [
    "plotImage(X_ZCA_rescaled[1])"
   ],
   "outputs": [],
   "metadata": {}
  },
  {
   "cell_type": "code",
   "execution_count": null,
   "source": [
    "pil_image = Image.fromarray((X_ZCA_rescaled[1] * 255).astype(np.uint8))"
   ],
   "outputs": [],
   "metadata": {}
  },
  {
   "cell_type": "code",
   "execution_count": null,
   "source": [
    "pil_image.save('a.jpg')"
   ],
   "outputs": [],
   "metadata": {}
  },
  {
   "cell_type": "code",
   "execution_count": null,
   "source": [],
   "outputs": [],
   "metadata": {}
  }
 ],
 "metadata": {
  "kernelspec": {
   "name": "python3",
   "display_name": "Python 3.8.10 64-bit ('venv': venv)"
  },
  "language_info": {
   "codemirror_mode": {
    "name": "ipython",
    "version": 3
   },
   "file_extension": ".py",
   "mimetype": "text/x-python",
   "name": "python",
   "nbconvert_exporter": "python",
   "pygments_lexer": "ipython3",
   "version": "3.8.10"
  },
  "interpreter": {
   "hash": "182b9cdfe558cb7c882f7680a665ab5e220ae65b98615a9a86f85d136eecdc7f"
  }
 },
 "nbformat": 4,
 "nbformat_minor": 5
}