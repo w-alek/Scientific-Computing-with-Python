{
 "cells": [
  {
   "cell_type": "markdown",
   "id": "459375e0",
   "metadata": {},
   "source": [
    "## Exercise 1"
   ]
  },
  {
   "cell_type": "markdown",
   "id": "e828d286",
   "metadata": {},
   "source": [
    "![title](zad1.png)"
   ]
  },
  {
   "cell_type": "code",
   "execution_count": 1,
   "id": "df9110fb",
   "metadata": {},
   "outputs": [],
   "source": [
    "import pandas as pd"
   ]
  },
  {
   "cell_type": "markdown",
   "id": "cbd615fd",
   "metadata": {},
   "source": [
    "## Exercise 2"
   ]
  },
  {
   "cell_type": "code",
   "execution_count": 2,
   "id": "4de2c0fa",
   "metadata": {},
   "outputs": [],
   "source": [
    "days = ['Monday', 'Tuesday', 'Wednesday', 'Thursday',\n",
    "       'Friday', 'Saturday', 'Sunday']\n",
    "\n",
    "bitcoin_value = [214379, 206747, 208739, 192409, 183614,\n",
    "                185663, 174585]"
   ]
  },
  {
   "cell_type": "code",
   "execution_count": 3,
   "id": "9332c911",
   "metadata": {},
   "outputs": [],
   "source": [
    "series = pd.Series(data=bitcoin_value, index=days)"
   ]
  },
  {
   "cell_type": "code",
   "execution_count": 4,
   "id": "569c7f49",
   "metadata": {},
   "outputs": [
    {
     "data": {
      "text/plain": [
       "Monday       214379\n",
       "Tuesday      206747\n",
       "Wednesday    208739\n",
       "Thursday     192409\n",
       "Friday       183614\n",
       "Saturday     185663\n",
       "Sunday       174585\n",
       "dtype: int64"
      ]
     },
     "execution_count": 4,
     "metadata": {},
     "output_type": "execute_result"
    }
   ],
   "source": [
    "series"
   ]
  },
  {
   "cell_type": "code",
   "execution_count": 5,
   "id": "63f458c7",
   "metadata": {},
   "outputs": [
    {
     "data": {
      "text/plain": [
       "Index(['Monday', 'Tuesday', 'Wednesday', 'Thursday', 'Friday', 'Saturday',\n",
       "       'Sunday'],\n",
       "      dtype='object')"
      ]
     },
     "execution_count": 5,
     "metadata": {},
     "output_type": "execute_result"
    }
   ],
   "source": [
    "series.index"
   ]
  },
  {
   "cell_type": "markdown",
   "id": "39bd8960",
   "metadata": {},
   "source": [
    "## Exercise 3"
   ]
  },
  {
   "cell_type": "code",
   "execution_count": 6,
   "id": "14500f61",
   "metadata": {},
   "outputs": [],
   "source": [
    "# Use periodic table from lab 2\n",
    "pt = [(1,\"Hydrogen\",\"H\",1), (2,\"Helium\",\"He\",4), (3,\"Lithium\",\"Li\",7), (4,\"Beryllium\",\"Be\",9),\n",
    "      (5,\"Boron\",\"B\",11), (6,\"Carbon\",\"C\",12), (7,\"Nitrogen\",\"N\",14), (8,\"Oxygen\",\"O\",16),\n",
    "     (9,\"Fluorine\",\"F\",19), (10,\"Neon\",\"Ne\",20)]"
   ]
  },
  {
   "cell_type": "code",
   "execution_count": 7,
   "id": "00dc17bf",
   "metadata": {},
   "outputs": [],
   "source": [
    "df = pd.DataFrame(pt, columns=['index', 'Name', 'Symbol', 'Weight'])\n",
    "df.set_index('index', inplace=True)\n",
    "df.index.name=None"
   ]
  },
  {
   "cell_type": "code",
   "execution_count": 8,
   "id": "c5241d05",
   "metadata": {},
   "outputs": [
    {
     "data": {
      "text/html": [
       "<div>\n",
       "<style scoped>\n",
       "    .dataframe tbody tr th:only-of-type {\n",
       "        vertical-align: middle;\n",
       "    }\n",
       "\n",
       "    .dataframe tbody tr th {\n",
       "        vertical-align: top;\n",
       "    }\n",
       "\n",
       "    .dataframe thead th {\n",
       "        text-align: right;\n",
       "    }\n",
       "</style>\n",
       "<table border=\"1\" class=\"dataframe\">\n",
       "  <thead>\n",
       "    <tr style=\"text-align: right;\">\n",
       "      <th></th>\n",
       "      <th>Name</th>\n",
       "      <th>Symbol</th>\n",
       "      <th>Weight</th>\n",
       "    </tr>\n",
       "  </thead>\n",
       "  <tbody>\n",
       "    <tr>\n",
       "      <th>1</th>\n",
       "      <td>Hydrogen</td>\n",
       "      <td>H</td>\n",
       "      <td>1</td>\n",
       "    </tr>\n",
       "    <tr>\n",
       "      <th>2</th>\n",
       "      <td>Helium</td>\n",
       "      <td>He</td>\n",
       "      <td>4</td>\n",
       "    </tr>\n",
       "    <tr>\n",
       "      <th>3</th>\n",
       "      <td>Lithium</td>\n",
       "      <td>Li</td>\n",
       "      <td>7</td>\n",
       "    </tr>\n",
       "    <tr>\n",
       "      <th>4</th>\n",
       "      <td>Beryllium</td>\n",
       "      <td>Be</td>\n",
       "      <td>9</td>\n",
       "    </tr>\n",
       "    <tr>\n",
       "      <th>5</th>\n",
       "      <td>Boron</td>\n",
       "      <td>B</td>\n",
       "      <td>11</td>\n",
       "    </tr>\n",
       "    <tr>\n",
       "      <th>6</th>\n",
       "      <td>Carbon</td>\n",
       "      <td>C</td>\n",
       "      <td>12</td>\n",
       "    </tr>\n",
       "    <tr>\n",
       "      <th>7</th>\n",
       "      <td>Nitrogen</td>\n",
       "      <td>N</td>\n",
       "      <td>14</td>\n",
       "    </tr>\n",
       "    <tr>\n",
       "      <th>8</th>\n",
       "      <td>Oxygen</td>\n",
       "      <td>O</td>\n",
       "      <td>16</td>\n",
       "    </tr>\n",
       "    <tr>\n",
       "      <th>9</th>\n",
       "      <td>Fluorine</td>\n",
       "      <td>F</td>\n",
       "      <td>19</td>\n",
       "    </tr>\n",
       "    <tr>\n",
       "      <th>10</th>\n",
       "      <td>Neon</td>\n",
       "      <td>Ne</td>\n",
       "      <td>20</td>\n",
       "    </tr>\n",
       "  </tbody>\n",
       "</table>\n",
       "</div>"
      ],
      "text/plain": [
       "         Name Symbol  Weight\n",
       "1    Hydrogen      H       1\n",
       "2      Helium     He       4\n",
       "3     Lithium     Li       7\n",
       "4   Beryllium     Be       9\n",
       "5       Boron      B      11\n",
       "6      Carbon      C      12\n",
       "7    Nitrogen      N      14\n",
       "8      Oxygen      O      16\n",
       "9    Fluorine      F      19\n",
       "10       Neon     Ne      20"
      ]
     },
     "execution_count": 8,
     "metadata": {},
     "output_type": "execute_result"
    }
   ],
   "source": [
    "df"
   ]
  }
 ],
 "metadata": {
  "kernelspec": {
   "display_name": "Python 3",
   "language": "python",
   "name": "python3"
  },
  "language_info": {
   "codemirror_mode": {
    "name": "ipython",
    "version": 3
   },
   "file_extension": ".py",
   "mimetype": "text/x-python",
   "name": "python",
   "nbconvert_exporter": "python",
   "pygments_lexer": "ipython3",
   "version": "3.8.5"
  }
 },
 "nbformat": 4,
 "nbformat_minor": 5
}
