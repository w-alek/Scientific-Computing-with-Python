{
 "cells": [
  {
   "cell_type": "code",
   "execution_count": 1,
   "id": "light-mileage",
   "metadata": {},
   "outputs": [],
   "source": [
    "import numpy as np"
   ]
  },
  {
   "cell_type": "markdown",
   "id": "canadian-reminder",
   "metadata": {},
   "source": [
    "## Exercise 8.1"
   ]
  },
  {
   "cell_type": "code",
   "execution_count": 2,
   "id": "latin-viking",
   "metadata": {},
   "outputs": [
    {
     "data": {
      "text/plain": [
       "array([0. , 0.1, 0.2, 0.3, 0.4, 0.5, 0.6, 0.7, 0.8, 0.9, 1. ])"
      ]
     },
     "execution_count": 2,
     "metadata": {},
     "output_type": "execute_result"
    }
   ],
   "source": [
    "arr = np.linspace(0, 1, num=11, dtype = np.dtype('float'))\n",
    "arr"
   ]
  },
  {
   "cell_type": "code",
   "execution_count": 3,
   "id": "funky-prompt",
   "metadata": {},
   "outputs": [
    {
     "name": "stdout",
     "output_type": "stream",
     "text": [
      "(11,)\n",
      "float64\n"
     ]
    }
   ],
   "source": [
    "print(arr.shape)\n",
    "print(arr.dtype)"
   ]
  },
  {
   "cell_type": "code",
   "execution_count": 4,
   "id": "circular-tunnel",
   "metadata": {},
   "outputs": [
    {
     "data": {
      "text/plain": [
       "array([[0, 0, 0, 0, 0, 0],\n",
       "       [0, 0, 0, 0, 0, 0],\n",
       "       [0, 0, 0, 0, 0, 0],\n",
       "       [0, 0, 0, 0, 0, 0],\n",
       "       [0, 0, 0, 0, 0, 0]], dtype=int8)"
      ]
     },
     "execution_count": 4,
     "metadata": {},
     "output_type": "execute_result"
    }
   ],
   "source": [
    "arr_ = np.zeros((5, 6), dtype = np.dtype('int8'))\n",
    "arr_"
   ]
  },
  {
   "cell_type": "code",
   "execution_count": 5,
   "id": "green-directory",
   "metadata": {},
   "outputs": [
    {
     "name": "stdout",
     "output_type": "stream",
     "text": [
      "(5, 6)\n",
      "int8\n"
     ]
    }
   ],
   "source": [
    "print(arr_.shape)\n",
    "print(arr_.dtype)"
   ]
  },
  {
   "cell_type": "code",
   "execution_count": 6,
   "id": "intended-leeds",
   "metadata": {},
   "outputs": [
    {
     "data": {
      "text/plain": [
       "array([ 0.+1.j, -1.+0.j, -0.-1.j,  1.+0.j,  0.+1.j, -1.+0.j, -0.-1.j,\n",
       "        1.+0.j,  0.+1.j])"
      ]
     },
     "execution_count": 6,
     "metadata": {},
     "output_type": "execute_result"
    }
   ],
   "source": [
    "arr__ = np.array([np.power(1J, i) for i in range(1, 10)], dtype = np.dtype('complex'))\n",
    "arr__"
   ]
  },
  {
   "cell_type": "code",
   "execution_count": 7,
   "id": "younger-cherry",
   "metadata": {},
   "outputs": [
    {
     "name": "stdout",
     "output_type": "stream",
     "text": [
      "(9,)\n",
      "complex128\n"
     ]
    }
   ],
   "source": [
    "print(arr__.shape)\n",
    "print(arr__.dtype)"
   ]
  },
  {
   "cell_type": "markdown",
   "id": "going-amber",
   "metadata": {},
   "source": [
    "## Exercise 8.2"
   ]
  },
  {
   "cell_type": "code",
   "execution_count": 8,
   "id": "simple-medication",
   "metadata": {},
   "outputs": [
    {
     "data": {
      "text/plain": [
       "array([ 1,  4,  7, 10, 13, 16, 19, 22, 25, 28, 31, 34, 37, 40, 43, 46, 49,\n",
       "       52, 55, 58, 61, 64, 67, 70, 73, 76, 79, 82, 85, 88, 91, 94, 97],\n",
       "      dtype=uint8)"
      ]
     },
     "execution_count": 8,
     "metadata": {},
     "output_type": "execute_result"
    }
   ],
   "source": [
    "v1 = np.array(range(1, 99, 3), dtype=np.dtype('uint8'))\n",
    "v1"
   ]
  },
  {
   "cell_type": "code",
   "execution_count": 9,
   "id": "acute-messenger",
   "metadata": {},
   "outputs": [
    {
     "name": "stdout",
     "output_type": "stream",
     "text": [
      "1\n"
     ]
    }
   ],
   "source": [
    "print(v1.ndim)"
   ]
  },
  {
   "cell_type": "code",
   "execution_count": 10,
   "id": "hourly-chamber",
   "metadata": {},
   "outputs": [
    {
     "data": {
      "text/plain": [
       "array([ 4, 10, 16, 22, 28, 34, 40, 46, 52, 58, 64, 70, 76, 82, 88, 94],\n",
       "      dtype=uint8)"
      ]
     },
     "execution_count": 10,
     "metadata": {},
     "output_type": "execute_result"
    }
   ],
   "source": [
    "# slice give us view, so we use copy to create new array\n",
    "v2 = v1[1::2].copy()\n",
    "v2"
   ]
  },
  {
   "cell_type": "code",
   "execution_count": 11,
   "id": "stunning-native",
   "metadata": {},
   "outputs": [
    {
     "data": {
      "text/plain": [
       "array([97, 94, 91, 88, 85, 82, 79, 76, 73, 70, 67, 64, 61, 58, 55, 52, 49,\n",
       "       46, 43, 40, 37, 34, 31, 28, 25, 22, 19, 16, 13, 10,  7,  4,  1],\n",
       "      dtype=uint8)"
      ]
     },
     "execution_count": 11,
     "metadata": {},
     "output_type": "execute_result"
    }
   ],
   "source": [
    "v3 = v1[::-1].copy()\n",
    "v3"
   ]
  },
  {
   "cell_type": "markdown",
   "id": "charming-laugh",
   "metadata": {},
   "source": [
    "## Exercise 8.3"
   ]
  },
  {
   "cell_type": "code",
   "execution_count": 12,
   "id": "traditional-oliver",
   "metadata": {},
   "outputs": [
    {
     "data": {
      "text/plain": [
       "array([[0.37454012, 0.95071431, 0.73199394, 0.59865848, 0.15601864],\n",
       "       [0.15599452, 0.05808361, 0.86617615, 0.60111501, 0.70807258],\n",
       "       [0.02058449, 0.96990985, 0.83244264, 0.21233911, 0.18182497],\n",
       "       [0.18340451, 0.30424224, 0.52475643, 0.43194502, 0.29122914]])"
      ]
     },
     "execution_count": 12,
     "metadata": {},
     "output_type": "execute_result"
    }
   ],
   "source": [
    "# set seed for reproducibility\n",
    "np.random.seed(42)\n",
    "m1 = np.random.rand(4, 5)\n",
    "m1"
   ]
  },
  {
   "cell_type": "code",
   "execution_count": 13,
   "id": "floating-youth",
   "metadata": {},
   "outputs": [
    {
     "name": "stdout",
     "output_type": "stream",
     "text": [
      "(4, 5)\n"
     ]
    }
   ],
   "source": [
    "print(m1.shape)"
   ]
  },
  {
   "cell_type": "code",
   "execution_count": 14,
   "id": "advanced-packing",
   "metadata": {},
   "outputs": [
    {
     "data": {
      "text/plain": [
       "array([[0.15601864, 0.59865848, 0.73199394, 0.95071431, 0.37454012],\n",
       "       [0.70807258, 0.60111501, 0.86617615, 0.05808361, 0.15599452],\n",
       "       [0.18182497, 0.21233911, 0.83244264, 0.96990985, 0.02058449],\n",
       "       [0.29122914, 0.43194502, 0.52475643, 0.30424224, 0.18340451]])"
      ]
     },
     "execution_count": 14,
     "metadata": {},
     "output_type": "execute_result"
    }
   ],
   "source": [
    "# rows reverse order\n",
    "m2 = m1[:, ::-1].copy()\n",
    "m2"
   ]
  },
  {
   "cell_type": "code",
   "execution_count": 15,
   "id": "handed-mapping",
   "metadata": {},
   "outputs": [
    {
     "data": {
      "text/plain": [
       "array([[0.18340451, 0.30424224, 0.52475643, 0.43194502, 0.29122914],\n",
       "       [0.02058449, 0.96990985, 0.83244264, 0.21233911, 0.18182497],\n",
       "       [0.15599452, 0.05808361, 0.86617615, 0.60111501, 0.70807258],\n",
       "       [0.37454012, 0.95071431, 0.73199394, 0.59865848, 0.15601864]])"
      ]
     },
     "execution_count": 15,
     "metadata": {},
     "output_type": "execute_result"
    }
   ],
   "source": [
    "# columns reverse order\n",
    "m3 = m1[::-1, :].copy()\n",
    "m3"
   ]
  },
  {
   "cell_type": "code",
   "execution_count": 16,
   "id": "worst-timothy",
   "metadata": {},
   "outputs": [
    {
     "data": {
      "text/plain": [
       "array([[0.05808361, 0.86617615, 0.60111501],\n",
       "       [0.96990985, 0.83244264, 0.21233911]])"
      ]
     },
     "execution_count": 16,
     "metadata": {},
     "output_type": "execute_result"
    }
   ],
   "source": [
    "m1[1:-1, 1:-1]"
   ]
  },
  {
   "cell_type": "code",
   "execution_count": null,
   "id": "professional-sharp",
   "metadata": {},
   "outputs": [],
   "source": []
  }
 ],
 "metadata": {
  "kernelspec": {
   "display_name": "Python 3",
   "language": "python",
   "name": "python3"
  },
  "language_info": {
   "codemirror_mode": {
    "name": "ipython",
    "version": 3
   },
   "file_extension": ".py",
   "mimetype": "text/x-python",
   "name": "python",
   "nbconvert_exporter": "python",
   "pygments_lexer": "ipython3",
   "version": "3.8.5"
  }
 },
 "nbformat": 4,
 "nbformat_minor": 5
}
