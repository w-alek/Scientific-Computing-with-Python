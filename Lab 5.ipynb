{
 "cells": [
  {
   "cell_type": "code",
   "execution_count": 1,
   "id": "waiting-sudan",
   "metadata": {},
   "outputs": [],
   "source": [
    "import os\n",
    "import datetime\n",
    "import random"
   ]
  },
  {
   "cell_type": "code",
   "execution_count": 2,
   "id": "peaceful-locking",
   "metadata": {},
   "outputs": [],
   "source": [
    "def find_pdf_size(top_path):\n",
    "    number_of_bytes = 0\n",
    "    for root, dirs, files in os.walk(top_path):\n",
    "        for name in files:\n",
    "            if name[-4:] == \".pdf\":\n",
    "                number_of_bytes += os.path.getsize(os.path.join(root, name))\n",
    "    print('Number of bytes taken by PDF files from \"{}\" in '\n",
    "           'directory tree = {}'.format(top_path, number_of_bytes))"
   ]
  },
  {
   "cell_type": "code",
   "execution_count": 3,
   "id": "accredited-sister",
   "metadata": {},
   "outputs": [
    {
     "name": "stdout",
     "output_type": "stream",
     "text": [
      "Number of bytes taken by PDF files from \"/home/konrad/Downloads\" in directory tree = 43062059\n"
     ]
    }
   ],
   "source": [
    "find_pdf_size('/home/konrad/Downloads')"
   ]
  },
  {
   "cell_type": "code",
   "execution_count": 4,
   "id": "intensive-south",
   "metadata": {},
   "outputs": [
    {
     "name": "stdout",
     "output_type": "stream",
     "text": [
      "Number of bytes taken by PDF files from \"/home/konrad/Calibre Library\" in directory tree = 73481716\n"
     ]
    }
   ],
   "source": [
    "find_pdf_size('/home/konrad/Calibre Library')"
   ]
  },
  {
   "cell_type": "code",
   "execution_count": 5,
   "id": "filled-england",
   "metadata": {},
   "outputs": [],
   "source": [
    "def print_working_days(date1, date2):\n",
    "    date1_ = datetime.date.fromisoformat(date1)\n",
    "    date2_ = datetime.date.fromisoformat(date2)\n",
    "    # generate all days from date1 to date2\n",
    "    daygenerator = (date1_ + datetime.timedelta(x) for x in range((date2_ - date1_).days))\n",
    "    print('Dates of working days from {} to {} excluded:'.format(date1_, date2_))\n",
    "    for day in daygenerator:\n",
    "        if day.weekday() < 5:\n",
    "            print(day)"
   ]
  },
  {
   "cell_type": "code",
   "execution_count": 6,
   "id": "pretty-windsor",
   "metadata": {},
   "outputs": [
    {
     "name": "stdout",
     "output_type": "stream",
     "text": [
      "Dates of working days from 2021-04-06 to 2021-04-16 excluded:\n",
      "2021-04-06\n",
      "2021-04-07\n",
      "2021-04-08\n",
      "2021-04-09\n",
      "2021-04-12\n",
      "2021-04-13\n",
      "2021-04-14\n",
      "2021-04-15\n"
     ]
    }
   ],
   "source": [
    "print_working_days('2021-04-06', '2021-04-16')"
   ]
  },
  {
   "cell_type": "code",
   "execution_count": 7,
   "id": "systematic-lender",
   "metadata": {},
   "outputs": [
    {
     "name": "stdout",
     "output_type": "stream",
     "text": [
      "Dates of working days from 2021-04-06 to 2021-04-18 excluded:\n",
      "2021-04-06\n",
      "2021-04-07\n",
      "2021-04-08\n",
      "2021-04-09\n",
      "2021-04-12\n",
      "2021-04-13\n",
      "2021-04-14\n",
      "2021-04-15\n",
      "2021-04-16\n"
     ]
    }
   ],
   "source": [
    "print_working_days('2021-04-06', '2021-04-18')"
   ]
  },
  {
   "cell_type": "code",
   "execution_count": 8,
   "id": "comprehensive-catholic",
   "metadata": {},
   "outputs": [
    {
     "name": "stdout",
     "output_type": "stream",
     "text": [
      "Dates of working days from 2021-04-06 to 2021-04-19 excluded:\n",
      "2021-04-06\n",
      "2021-04-07\n",
      "2021-04-08\n",
      "2021-04-09\n",
      "2021-04-12\n",
      "2021-04-13\n",
      "2021-04-14\n",
      "2021-04-15\n",
      "2021-04-16\n"
     ]
    }
   ],
   "source": [
    "print_working_days('2021-04-06', '2021-04-19')"
   ]
  },
  {
   "cell_type": "code",
   "execution_count": 9,
   "id": "computational-heart",
   "metadata": {},
   "outputs": [
    {
     "name": "stdout",
     "output_type": "stream",
     "text": [
      "Dates of working days from 2021-04-11 to 2021-04-13 excluded:\n",
      "2021-04-12\n"
     ]
    }
   ],
   "source": [
    "print_working_days('2021-04-11', '2021-04-13')"
   ]
  },
  {
   "cell_type": "code",
   "execution_count": 10,
   "id": "bacterial-bristol",
   "metadata": {},
   "outputs": [],
   "source": [
    "def random_walk(start = 0):\n",
    "    while True:\n",
    "        guess = random.randint(0, 1)\n",
    "        if guess:\n",
    "            start += 1\n",
    "        else:\n",
    "            start -= 1\n",
    "        yield start"
   ]
  },
  {
   "cell_type": "code",
   "execution_count": 11,
   "id": "union-coverage",
   "metadata": {},
   "outputs": [
    {
     "name": "stdout",
     "output_type": "stream",
     "text": [
      "18, 14, -12, 2, -14, -10, 20, -16, -12, 8, -12, -4, 0, 12, -16, 2, 2, 4, 10, -10, -22, -6, 2, -20, -14, -2, 6, -10, -2, -20, -2, -2, 8, 6, 2, -2, 0, -4, -14, -6, -2, -8, 16, -6, 2, 0, -12, -6, -2, 12, 10, 12, -8, 12, -6, -10, 8, -6, -24, 18, -12, 4, -22, 0, 0, 12, -2, 8, -2, 4, -2, -24, -2, 12, -14, 8, -8, 4, -4, -10, 10, -14, 0, -4, -2, 4, -14, -18, 6, 0, -4, 12, 6, 32, 2, 0, 4, -8, 0, 2, "
     ]
    }
   ],
   "source": [
    "for i in range(100):\n",
    "    rw = random_walk()\n",
    "    for i in range(99):\n",
    "        next(rw)\n",
    "    print(next(rw), end = ', ')"
   ]
  },
  {
   "cell_type": "markdown",
   "id": "activated-magazine",
   "metadata": {},
   "source": [
    "Z addytywności wartości oczekiwanej spacer losowy jako suma zmiennych losowych o wartości oczekiwanej zero ma wartość oczekiwaną zero, stąd mozna wyjaśnić powyższe rezultaty."
   ]
  },
  {
   "cell_type": "code",
   "execution_count": null,
   "id": "interested-steps",
   "metadata": {},
   "outputs": [],
   "source": []
  }
 ],
 "metadata": {
  "kernelspec": {
   "display_name": "Python 3",
   "language": "python",
   "name": "python3"
  },
  "language_info": {
   "codemirror_mode": {
    "name": "ipython",
    "version": 3
   },
   "file_extension": ".py",
   "mimetype": "text/x-python",
   "name": "python",
   "nbconvert_exporter": "python",
   "pygments_lexer": "ipython3",
   "version": "3.8.5"
  }
 },
 "nbformat": 4,
 "nbformat_minor": 5
}
