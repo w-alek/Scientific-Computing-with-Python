{
 "cells": [
  {
   "cell_type": "code",
   "execution_count": 1,
   "id": "waiting-sudan",
   "metadata": {},
   "outputs": [],
   "source": [
    "import os\n",
    "import datetime\n",
    "import random\n"
   ]
  },
  {
   "cell_type": "code",
   "execution_count": 2,
   "id": "peaceful-locking",
   "metadata": {},
   "outputs": [],
   "source": [
    "def find_pdf_size(top_path):\n",
    "    number_of_bytes = 0\n",
    "    for root, dirs, files in os.walk(top_path):\n",
    "        for name in files:\n",
    "            if name[-4:] == \".pdf\":\n",
    "                number_of_bytes += os.path.getsize(os.path.join(root, name))\n",
    "    print('Number of bytes taken by PDF files from \"{}\" in '\n",
    "           'directory tree = {}'.format(top_path, number_of_bytes))"
   ]
  },
  {
   "cell_type": "code",
   "execution_count": 3,
   "id": "accredited-sister",
   "metadata": {},
   "outputs": [
    {
     "name": "stdout",
     "output_type": "stream",
     "text": [
      "Number of bytes taken by PDF files from \"/home/konrad/Downloads\" in directory tree = 43062059\n"
     ]
    }
   ],
   "source": [
    "find_pdf_size('/home/konrad/Downloads')"
   ]
  },
  {
   "cell_type": "code",
   "execution_count": 4,
   "id": "simple-conservative",
   "metadata": {},
   "outputs": [
    {
     "name": "stdout",
     "output_type": "stream",
     "text": [
      "Number of bytes taken by PDF files from \"/home/konrad/Calibre Library\" in directory tree = 73481716\n"
     ]
    }
   ],
   "source": [
    "find_pdf_size('/home/konrad/Calibre Library')"
   ]
  },
  {
   "cell_type": "code",
   "execution_count": 5,
   "id": "filled-england",
   "metadata": {},
   "outputs": [],
   "source": [
    "def print_working_days(date1, date2):\n",
    "    date1_ = datetime.date.fromisoformat(date1)\n",
    "    date2_ = datetime.date.fromisoformat(date2)\n",
    "    # generate all days from date1 to date2\n",
    "    daygenerator = (date1_ + datetime.timedelta(x) for x in range((date2_ - date1_).days))\n",
    "    print('Dates of working days from {} to {} excluded:'.format(date1_, date2_))\n",
    "    for day in daygenerator:\n",
    "        if day.weekday() < 5:\n",
    "            print(day)"
   ]
  },
  {
   "cell_type": "code",
   "execution_count": 6,
   "id": "pretty-windsor",
   "metadata": {},
   "outputs": [
    {
     "name": "stdout",
     "output_type": "stream",
     "text": [
      "Dates of working days from 2021-04-06 to 2021-04-16 excluded:\n",
      "2021-04-06\n",
      "2021-04-07\n",
      "2021-04-08\n",
      "2021-04-09\n",
      "2021-04-12\n",
      "2021-04-13\n",
      "2021-04-14\n",
      "2021-04-15\n"
     ]
    }
   ],
   "source": [
    "print_working_days('2021-04-06', '2021-04-16')"
   ]
  },
  {
   "cell_type": "code",
   "execution_count": 7,
   "id": "talented-hostel",
   "metadata": {},
   "outputs": [
    {
     "name": "stdout",
     "output_type": "stream",
     "text": [
      "Dates of working days from 2021-04-06 to 2021-04-18 excluded:\n",
      "2021-04-06\n",
      "2021-04-07\n",
      "2021-04-08\n",
      "2021-04-09\n",
      "2021-04-12\n",
      "2021-04-13\n",
      "2021-04-14\n",
      "2021-04-15\n",
      "2021-04-16\n"
     ]
    }
   ],
   "source": [
    "print_working_days('2021-04-06', '2021-04-18')"
   ]
  },
  {
   "cell_type": "code",
   "execution_count": 8,
   "id": "angry-defeat",
   "metadata": {},
   "outputs": [
    {
     "name": "stdout",
     "output_type": "stream",
     "text": [
      "Dates of working days from 2021-04-06 to 2021-04-19 excluded:\n",
      "2021-04-06\n",
      "2021-04-07\n",
      "2021-04-08\n",
      "2021-04-09\n",
      "2021-04-12\n",
      "2021-04-13\n",
      "2021-04-14\n",
      "2021-04-15\n",
      "2021-04-16\n"
     ]
    }
   ],
   "source": [
    "print_working_days('2021-04-06', '2021-04-19')"
   ]
  },
  {
   "cell_type": "code",
   "execution_count": 9,
   "id": "expired-discretion",
   "metadata": {},
   "outputs": [
    {
     "name": "stdout",
     "output_type": "stream",
     "text": [
      "Dates of working days from 2021-04-11 to 2021-04-13 excluded:\n",
      "2021-04-12\n"
     ]
    }
   ],
   "source": [
    "print_working_days('2021-04-11', '2021-04-13')"
   ]
  },
  {
   "cell_type": "code",
   "execution_count": 10,
   "id": "bacterial-bristol",
   "metadata": {},
   "outputs": [],
   "source": [
    "def random_walk(start = 0):\n",
    "    while True:\n",
    "        guess = random.randint(0, 1)\n",
    "        if guess:\n",
    "            start += 1\n",
    "        else:\n",
    "            start -= 1\n",
    "        yield start"
   ]
  },
  {
   "cell_type": "code",
   "execution_count": 11,
   "id": "union-coverage",
   "metadata": {},
   "outputs": [
    {
     "name": "stdout",
     "output_type": "stream",
     "text": [
      "-4, 6, -2, -8, 16, 6, -8, 8, 16, 20, 20, 0, -2, 2, 18, 8, 16, 2, -2, 6, -10, -8, -2, 0, 4, 4, 4, 8, 2, -4, 2, -8, 4, 0, 12, -12, 10, -6, -4, 10, -4, -2, 12, -6, -14, 10, -28, -10, 0, -10, 10, 24, 14, 10, 2, 0, -14, 2, -6, 12, 12, 6, 16, 0, 6, 14, 20, -2, -10, 6, -16, -4, 18, -8, -2, -16, 4, 18, -8, 2, -2, -10, -2, -16, 12, 10, 2, 6, -6, 2, -6, -2, 4, -18, 2, -8, -24, 14, 6, 2, "
     ]
    }
   ],
   "source": [
    "for i in range(100):\n",
    "    rw = random_walk()\n",
    "    for i in range(99):\n",
    "        next(rw)\n",
    "    print(next(rw), end = ', ')"
   ]
  },
  {
   "cell_type": "markdown",
   "id": "white-statement",
   "metadata": {},
   "source": [
    "Z addytywności wartości oczekiwanej spacer losowy jako suma zmiennych losowych o wartości oczekiwanej zero ma wartość oczekiwaną zero, stąd mozna wyjaśnić powyższe rezultaty."
   ]
  },
  {
   "cell_type": "code",
   "execution_count": null,
   "id": "fuzzy-internship",
   "metadata": {},
   "outputs": [],
   "source": []
  }
 ],
 "metadata": {
  "kernelspec": {
   "display_name": "Python 3",
   "language": "python",
   "name": "python3"
  },
  "language_info": {
   "codemirror_mode": {
    "name": "ipython",
    "version": 3
   },
   "file_extension": ".py",
   "mimetype": "text/x-python",
   "name": "python",
   "nbconvert_exporter": "python",
   "pygments_lexer": "ipython3",
   "version": "3.8.5"
  }
 },
 "nbformat": 4,
 "nbformat_minor": 5
}
